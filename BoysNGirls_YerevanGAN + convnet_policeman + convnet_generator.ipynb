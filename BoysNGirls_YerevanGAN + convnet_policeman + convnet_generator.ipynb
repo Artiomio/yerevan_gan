{
 "cells": [
  {
   "cell_type": "code",
   "execution_count": 1,
   "id": "78d12d36",
   "metadata": {},
   "outputs": [],
   "source": [
    "%matplotlib inline\n",
    "from IPython.display import clear_output\n",
    "\n",
    "import gc\n",
    "import os\n",
    "import time\n",
    "import numpy as np\n",
    "import cv2\n",
    "import matplotlib.pyplot as plt\n",
    "from tqdm.notebook import tqdm\n",
    "#from tqdm import tqdm\n",
    "\n",
    "from sklearn.model_selection import train_test_split\n",
    "\n",
    "import keras\n",
    "from keras.models import Sequential\n",
    "from keras.layers import *\n",
    "from keras.layers import Dense, Dropout, Flatten\n",
    "from keras.layers import Conv2D, MaxPooling2D\n",
    "from keras import backend as K\n",
    "\n",
    "from keras import initializers\n",
    "import sys\n",
    "sys.path.append('/home/art/Programming/artlibs')\n",
    "from artiom_convenience_functions import * \n",
    "from videorecorder import save_to_video, execute_at_exit\n",
    "\n"
   ]
  },
  {
   "cell_type": "code",
   "execution_count": 2,
   "id": "f31f5810",
   "metadata": {},
   "outputs": [],
   "source": [
    "def s(img):\n",
    "    plt.imshow(\n",
    "    img.reshape(\n",
    "    N_DIM, N_DIM), cmap='gray')"
   ]
  },
  {
   "cell_type": "code",
   "execution_count": 3,
   "id": "2a93ca54",
   "metadata": {},
   "outputs": [],
   "source": [
    "N_DIM = 64\n",
    "\n",
    "faces = np.concatenate([np.fromfile(f\"girls_img_{N_DIM}x{N_DIM}.bin\", dtype=\"uint8\").reshape(-1, N_DIM, N_DIM) / 255,\n",
    "\n",
    "                        np.fromfile(f\"boys_img_{N_DIM}x{N_DIM}.bin\", dtype=\"uint8\").reshape(-1, N_DIM, N_DIM) / 255])"
   ]
  },
  {
   "cell_type": "code",
   "execution_count": 4,
   "id": "0eae103d",
   "metadata": {},
   "outputs": [
    {
     "data": {
      "image/png": "[encoded data removed]",
      "text/plain": [
       "<Figure size 432x288 with 1 Axes>"
      ]
     },
     "metadata": {
      "needs_background": "light"
     },
     "output_type": "display_data"
    }
   ],
   "source": [
    "s(faces[2])"
   ]
  },
  {
   "cell_type": "markdown",
   "id": "d0a4ca05",
   "metadata": {},
   "source": [
    "# Face generator\n"
   ]
  },
  {
   "cell_type": "code",
   "execution_count": 5,
   "id": "cdf3beda",
   "metadata": {},
   "outputs": [
    {
     "name": "stdout",
     "output_type": "stream",
     "text": [
      "(None, 64, 64, 1)\n",
      "(None, 64, 64, 1)\n"
     ]
    }
   ],
   "source": [
    "inputs = keras.Input(shape=(100))\n",
    "x = Dense(100, activation='sigmoid', kernel_regularizer='l2')(inputs)\n",
    "#x = Dropout(0.2)(x)\n",
    "#x = Dense(1000, activation='sigmoid')(x)\n",
    "\n",
    "x = Dense(4*(N_DIM + 1)** 2, activation='sigmoid', kernel_regularizer='l2')(x)\n",
    "x = Reshape((2*N_DIM + 2, 2*N_DIM + 2, 1))(x)\n",
    "\n",
    "x = Conv2D(300, (3, 3),)(x)\n",
    "x = MaxPool2D((2, 2))(x)\n",
    "x = Conv2D(1, (1, 1), activation=\"sigmoid\")(x)\n",
    "print(x.shape)\n",
    "\n",
    "print(x.shape)\n",
    "x = Reshape((N_DIM, N_DIM))(x)\n",
    "face_gen = keras.Model(inputs=inputs, outputs=x, name=\"face_generator\")\n",
    "\n",
    "face_gen.compile(\n",
    "\n",
    "    optimizer=keras.optimizers.RMSprop(0.001),\n",
    "    metrics=[\"accuracy\"],\n",
    ")"
   ]
  },
  {
   "cell_type": "code",
   "execution_count": null,
   "id": "2295ade9",
   "metadata": {},
   "outputs": [],
   "source": []
  },
  {
   "cell_type": "markdown",
   "id": "7335e045",
   "metadata": {},
   "source": [
    "\n",
    "# policeman "
   ]
  },
  {
   "cell_type": "code",
   "execution_count": 6,
   "id": "eae59cb6",
   "metadata": {},
   "outputs": [],
   "source": [
    "shape=(N_DIM, N_DIM)"
   ]
  },
  {
   "cell_type": "code",
   "execution_count": 7,
   "id": "03bf0092",
   "metadata": {},
   "outputs": [],
   "source": [
    "inputs = keras.Input(shape=(N_DIM, N_DIM, 1))\n",
    "\n",
    "x = Conv2D(160, (3, 3))(inputs)\n",
    "x = MaxPool2D((2, 2))(x)\n",
    "\n",
    "x = Conv2D(308, (5, 5))(x)\n",
    "x = MaxPool2D((3, 3))(x)\n",
    "#x = Conv2D(30, (4, 4))(x)\n",
    "#x = MaxPool2D((4, 4))(x)\n",
    "\n",
    "\n",
    "x = Flatten()(x)\n",
    "x = Dense(1300, activation='sigmoid', kernel_regularizer='l2')(x)\n",
    "\n",
    "\n",
    "outputs = Dense(1, activation='sigmoid')(x)\n",
    "policeman = keras.Model(inputs=inputs, outputs=outputs, name=\"policeman\")"
   ]
  },
  {
   "cell_type": "code",
   "execution_count": 8,
   "id": "ee12acf5",
   "metadata": {},
   "outputs": [],
   "source": [
    "\n",
    "policeman.compile(\n",
    "    loss=keras.losses.BinaryCrossentropy(),\n",
    "\n",
    "    optimizer=keras.optimizers.Adadelta(0.001),\n",
    "    metrics=[\"accuracy\"],\n",
    ")"
   ]
  },
  {
   "cell_type": "markdown",
   "id": "b8fae1bf",
   "metadata": {},
   "source": [
    "# Среда"
   ]
  },
  {
   "cell_type": "code",
   "execution_count": 9,
   "id": "4fbaf6d2",
   "metadata": {},
   "outputs": [],
   "source": [
    "policeman.trainable = False\n",
    "inputs = keras.Input(shape=(100))\n",
    "x = face_gen(inputs)\n",
    "outputs = policeman(x) \n",
    "env_model = keras.Model(inputs=inputs, outputs=outputs, name=\"face_generator\")"
   ]
  },
  {
   "cell_type": "code",
   "execution_count": 10,
   "id": "a5dbdd81",
   "metadata": {},
   "outputs": [],
   "source": [
    "\n",
    "env_model.compile( loss=\"MSE\"#\"binary_crossentropy\" \n",
    ")"
   ]
  },
  {
   "cell_type": "code",
   "execution_count": 11,
   "id": "3493360e",
   "metadata": {},
   "outputs": [
    {
     "name": "stdout",
     "output_type": "stream",
     "text": [
      "Model: \"face_generator\"\n",
      "_________________________________________________________________\n",
      " Layer (type)                Output Shape              Param #   \n",
      "=================================================================\n",
      " input_3 (InputLayer)        [(None, 100)]             0         \n",
      "                                                                 \n",
      " face_generator (Functional)  (None, 64, 64)           1720301   \n",
      "                                                                 \n",
      " policeman (Functional)      (None, 1)                 33668909  \n",
      "                                                                 \n",
      "=================================================================\n",
      "Total params: 35,389,210\n",
      "Trainable params: 1,720,301\n",
      "Non-trainable params: 33,668,909\n",
      "_________________________________________________________________\n"
     ]
    }
   ],
   "source": [
    "env_model.summary()"
   ]
  },
  {
   "cell_type": "code",
   "execution_count": 12,
   "id": "45f93b80",
   "metadata": {},
   "outputs": [
    {
     "name": "stdout",
     "output_type": "stream",
     "text": [
      "1/1 [==============================] - 57s 57s/step\n"
     ]
    },
    {
     "data": {
      "image/png": "[encoded data removed]",
      "text/plain": [
       "<Figure size 432x288 with 1 Axes>"
      ]
     },
     "metadata": {
      "needs_background": "light"
     },
     "output_type": "display_data"
    }
   ],
   "source": [
    "s(\n",
    "    face_gen.predict(\n",
    "        np.random.random(size=100).astype(\"float32\").reshape(1, 100)\n",
    "    ).reshape(N_DIM, N_DIM))"
   ]
  },
  {
   "cell_type": "markdown",
   "id": "0da0c8c7",
   "metadata": {},
   "source": [
    "# Учим полицейского"
   ]
  },
  {
   "cell_type": "code",
   "execution_count": null,
   "id": "341e0019",
   "metadata": {},
   "outputs": [],
   "source": []
  },
  {
   "cell_type": "code",
   "execution_count": 13,
   "id": "55146b40",
   "metadata": {},
   "outputs": [],
   "source": [
    "N = 314\n",
    "seeds = np.random.random(size=(N, 100)).astype(\"float32\").reshape(-1, 100)"
   ]
  },
  {
   "cell_type": "code",
   "execution_count": 14,
   "id": "ac0d159d",
   "metadata": {},
   "outputs": [
    {
     "name": "stdout",
     "output_type": "stream",
     "text": [
      "10/10 [==============================] - 2s 35ms/step\n"
     ]
    }
   ],
   "source": [
    "faces_drawn_from_seeds = face_gen.predict(seeds)"
   ]
  },
  {
   "cell_type": "code",
   "execution_count": 15,
   "id": "67d24089",
   "metadata": {},
   "outputs": [],
   "source": [
    "\n",
    "indices = np.random.randint(0, len(faces), size=N)\n",
    "real_faces = faces[indices]"
   ]
  },
  {
   "cell_type": "code",
   "execution_count": 16,
   "id": "c68b9c69",
   "metadata": {},
   "outputs": [
    {
     "data": {
      "text/plain": [
       "(628, 64, 64)"
      ]
     },
     "execution_count": 16,
     "metadata": {},
     "output_type": "execute_result"
    }
   ],
   "source": [
    "X = np.concatenate([faces_drawn_from_seeds, real_faces])\n",
    "X.shape"
   ]
  },
  {
   "cell_type": "code",
   "execution_count": 17,
   "id": "31f299cd",
   "metadata": {},
   "outputs": [],
   "source": [
    "Y = np.zeros(\n",
    "N * 2)\n",
    "\n",
    "Y[N:] = 1"
   ]
  },
  {
   "cell_type": "code",
   "execution_count": 18,
   "id": "16b0efb5",
   "metadata": {},
   "outputs": [
    {
     "data": {
      "text/plain": [
       "array([[0.4999547 , 0.50056207, 0.49987796, ..., 0.50055325, 0.50038081,\n",
       "        0.50060612],\n",
       "       [0.50075638, 0.50043941, 0.50045806, ..., 0.50030375, 0.50078177,\n",
       "        0.50037563],\n",
       "       [0.50065017, 0.49992692, 0.50042498, ..., 0.50051552, 0.4994202 ,\n",
       "        0.49998724],\n",
       "       ...,\n",
       "       [0.50022537, 0.50004023, 0.4999944 , ..., 0.50020564, 0.49996769,\n",
       "        0.49973378],\n",
       "       [0.5002991 , 0.50030369, 0.50024676, ..., 0.50019664, 0.50006366,\n",
       "        0.50068694],\n",
       "       [0.50019753, 0.49960619, 0.50027388, ..., 0.50034255, 0.50026828,\n",
       "        0.50011921]])"
      ]
     },
     "execution_count": 18,
     "metadata": {},
     "output_type": "execute_result"
    }
   ],
   "source": [
    "X[1]"
   ]
  },
  {
   "cell_type": "code",
   "execution_count": 19,
   "id": "2fe93e1d",
   "metadata": {},
   "outputs": [
    {
     "name": "stdout",
     "output_type": "stream",
     "text": [
      "0.0\n"
     ]
    },
    {
     "data": {
      "image/png": "[encoded data removed]",
      "text/plain": [
       "<Figure size 432x288 with 1 Axes>"
      ]
     },
     "metadata": {
      "needs_background": "light"
     },
     "output_type": "display_data"
    }
   ],
   "source": [
    "x, y = X[ind:=np.random.randint(0, len(X))],   Y[ind]\n",
    "print(y)\n",
    "s(x)"
   ]
  },
  {
   "cell_type": "code",
   "execution_count": 20,
   "id": "a3f40534",
   "metadata": {},
   "outputs": [
    {
     "name": "stdout",
     "output_type": "stream",
     "text": [
      "20/20 [==============================] - 9s 62ms/step - loss: 25.4044 - accuracy: 0.5000\n",
      "20/20 [==============================] - 0s 8ms/step - loss: 25.3921 - accuracy: 0.5000\n"
     ]
    },
    {
     "data": {
      "text/plain": [
       "[25.39213752746582, 0.5]"
      ]
     },
     "execution_count": 20,
     "metadata": {},
     "output_type": "execute_result"
    }
   ],
   "source": [
    "policeman.fit(X, Y, epochs=1, shuffle=1)\n",
    "policeman.evaluate(X, Y)"
   ]
  },
  {
   "cell_type": "markdown",
   "id": "45f79ef5",
   "metadata": {},
   "source": [
    "# Теперь запускаем срелу"
   ]
  },
  {
   "cell_type": "code",
   "execution_count": 21,
   "id": "03b6360a",
   "metadata": {},
   "outputs": [],
   "source": [
    "N = 314\n",
    "seeds = np.random.random(size=(N, 100)).astype(\"float32\").reshape(-1, 100)\n",
    "\n",
    "ones = np.ones(len(seeds), dtype=\"float32\").reshape(-1, 1)\n"
   ]
  },
  {
   "cell_type": "code",
   "execution_count": 22,
   "id": "64d7a8a4",
   "metadata": {},
   "outputs": [
    {
     "data": {
      "text/plain": [
       "(314, 1)"
      ]
     },
     "execution_count": 22,
     "metadata": {},
     "output_type": "execute_result"
    }
   ],
   "source": [
    "ones.shape"
   ]
  },
  {
   "cell_type": "code",
   "execution_count": 23,
   "id": "3e04119c",
   "metadata": {},
   "outputs": [
    {
     "data": {
      "text/plain": [
       "array([0.672602  , 0.8511656 , 0.57773805, 0.80848294, 0.582508  ,\n",
       "       0.6787021 , 0.38667366, 0.27780604, 0.6688626 , 0.04634222,\n",
       "       0.66604733, 0.7899299 , 0.11316022, 0.7012915 , 0.9810863 ,\n",
       "       0.78394353, 0.4859033 , 0.20078714, 0.21337818, 0.29446784,\n",
       "       0.5419946 , 0.3452963 , 0.7210823 , 0.14298868, 0.28603587,\n",
       "       0.12273735, 0.28109464, 0.62947404, 0.64903915, 0.6740574 ,\n",
       "       0.2755124 , 0.67233044, 0.97112215, 0.21926343, 0.3515918 ,\n",
       "       0.88469714, 0.9387596 , 0.88035053, 0.31967133, 0.8705363 ,\n",
       "       0.8626109 , 0.5454918 , 0.79560393, 0.7313583 , 0.91444117,\n",
       "       0.43896502, 0.9286947 , 0.26650593, 0.7915714 , 0.716383  ,\n",
       "       0.27787906, 0.3784121 , 0.26605085, 0.15122686, 0.75889593,\n",
       "       0.6291776 , 0.04558965, 0.8181185 , 0.42065933, 0.70400643,\n",
       "       0.6044455 , 0.73825514, 0.64615273, 0.06107252, 0.85845673,\n",
       "       0.868719  , 0.6742233 , 0.53141725, 0.6097352 , 0.04471319,\n",
       "       0.9846096 , 0.89701897, 0.6758144 , 0.27034447, 0.8836744 ,\n",
       "       0.79456526, 0.07041714, 0.5343805 , 0.7413556 , 0.65657055,\n",
       "       0.11128929, 0.4305266 , 0.64168906, 0.651969  , 0.4642058 ,\n",
       "       0.41580808, 0.735933  , 0.79826427, 0.8133448 , 0.8571605 ,\n",
       "       0.51406497, 0.5294365 , 0.14499171, 0.2037538 , 0.52998316,\n",
       "       0.19221377, 0.8839027 , 0.81321716, 0.5147335 , 0.5542816 ],\n",
       "      dtype=float32)"
      ]
     },
     "execution_count": 23,
     "metadata": {},
     "output_type": "execute_result"
    }
   ],
   "source": [
    "\n",
    "seeds[0]"
   ]
  },
  {
   "cell_type": "code",
   "execution_count": 24,
   "id": "cf7875c0",
   "metadata": {},
   "outputs": [
    {
     "name": "stdout",
     "output_type": "stream",
     "text": [
      "10/10 [==============================] - 2s 116ms/step - loss: 26.4424\n"
     ]
    },
    {
     "data": {
      "text/plain": [
       "<keras.callbacks.History at 0x7f7c401cdae0>"
      ]
     },
     "execution_count": 24,
     "metadata": {},
     "output_type": "execute_result"
    }
   ],
   "source": [
    "env_model.fit(seeds, ones, shuffle=1, epochs=1)"
   ]
  },
  {
   "cell_type": "markdown",
   "id": "98cfbf19",
   "metadata": {},
   "source": [
    "# В цикле"
   ]
  },
  {
   "cell_type": "code",
   "execution_count": 25,
   "id": "d02e3de6",
   "metadata": {},
   "outputs": [
    {
     "data": {
      "text/plain": [
       "array([[0.49981958, 0.50072044, 0.49995422, ..., 0.50041294, 0.5004067 ,\n",
       "        0.5005895 ],\n",
       "       [0.5008483 , 0.50052327, 0.50050926, ..., 0.5002814 , 0.50075656,\n",
       "        0.50038904],\n",
       "       [0.5007004 , 0.4997673 , 0.50053966, ..., 0.500432  , 0.49941507,\n",
       "        0.50004184],\n",
       "       ...,\n",
       "       [0.5002748 , 0.4999982 , 0.5001145 , ..., 0.50035435, 0.49985793,\n",
       "        0.49966097],\n",
       "       [0.5002096 , 0.5004142 , 0.50022143, ..., 0.50013655, 0.50011015,\n",
       "        0.5007857 ],\n",
       "       [0.50011533, 0.49961942, 0.5003051 , ..., 0.50029135, 0.50015646,\n",
       "        0.5001244 ]], dtype=float32)"
      ]
     },
     "execution_count": 25,
     "metadata": {},
     "output_type": "execute_result"
    }
   ],
   "source": [
    "faces_drawn_from_seeds[0]"
   ]
  },
  {
   "cell_type": "code",
   "execution_count": 26,
   "id": "c2f5bc68",
   "metadata": {},
   "outputs": [],
   "source": [
    "from importlib import reload\n",
    "\n",
    "from videorecorder import get_new_cv2_imshow\n",
    "from videorecorder import save_to_video, execute_at_exit\n",
    "\n",
    "reload(sys.modules['videorecorder'])\n",
    "reload(sys.modules['cv2'])\n",
    "my_imshow = get_new_cv2_imshow(cv2.imshow, video_frame_rate=1,\n",
    "                                redraw_only_every_nth_frame=1,\n",
    "                                #last_frame_meditation_time_sec=3,\n",
    "                                #fading_out_time_sec=5)\n",
    "                               )"
   ]
  },
  {
   "cell_type": "code",
   "execution_count": 27,
   "id": "b34a237c",
   "metadata": {},
   "outputs": [
    {
     "data": {
      "text/plain": [
       "2"
      ]
     },
     "execution_count": 27,
     "metadata": {},
     "output_type": "execute_result"
    }
   ],
   "source": [
    "2"
   ]
  },
  {
   "cell_type": "code",
   "execution_count": 29,
   "id": "83f6b1da",
   "metadata": {},
   "outputs": [
    {
     "name": "stderr",
     "output_type": "stream",
     "text": [
      "OpenCV: FFMPEG: tag 0x44495658/'XVID' is not supported with codec id 12 and format 'mp4 / MP4 (MPEG-4 Part 14)'\n",
      "OpenCV: FFMPEG: fallback to use tag 0x7634706d/'mp4v'\n"
     ]
    },
    {
     "name": "stdout",
     "output_type": "stream",
     "text": [
      "0.5575000047683716 3 3\n",
      "0.5 15 3\n",
      "0.5 15 3\n",
      "0.6324999928474426 15 3\n",
      "0.5 15 3\n",
      "0.5699999928474426 15 3\n",
      "0.5 15 3\n",
      "0.5625 15 3\n",
      "0.4449999928474426 15 3\n",
      "0.0949999988079071 15 3\n",
      "0.17499999701976776 15 3\n",
      "0.02250000089406967 15 3\n",
      "0.26249998807907104 15 3\n",
      "0.5024999976158142 15 3\n",
      "0.48750001192092896 15 3\n",
      "0.5 15 3\n",
      "1.0 15 3\n",
      "0.512499988079071 7.5 37.5\n",
      "1.0 93.75 18.75\n",
      "0.6600000262260437 46.875 234.375\n",
      "0.7524999976158142 23.4375 117.1875\n",
      "0.7900000214576721 11.71875 58.59375\n",
      "0.8025000095367432 5.859375 29.296875\n",
      "0.8199999928474426 5.859375 29.296875\n",
      "0.8575000166893005 5.859375 29.296875\n",
      "0.8600000143051147 5.859375 29.296875\n",
      "0.8774999976158142 5.859375 29.296875\n",
      "0.8650000095367432 5.859375 29.296875\n",
      "0.9075000286102295 5.859375 29.296875\n",
      "0.8849999904632568 5.859375 29.296875\n",
      "0.9024999737739563 5.859375 29.296875\n",
      "0.9275000095367432 5.859375 29.296875\n",
      "0.9424999952316284 5.859375 29.296875\n",
      "0.9325000047683716 5.859375 29.296875\n",
      "0.9424999952316284 5.859375 29.296875\n",
      "0.9524999856948853 5.859375 29.296875\n",
      "0.9524999856948853 5.859375 29.296875\n",
      "0.9574999809265137 5.859375 29.296875\n",
      "0.9674999713897705 5.859375 29.296875\n",
      "0.949999988079071 5.859375 29.296875\n",
      "0.9674999713897705 5.859375 29.296875\n",
      "0.9649999737739563 5.859375 29.296875\n",
      "0.9524999856948853 5.859375 29.296875\n",
      "0.9775000214576721 5.859375 29.296875\n",
      "0.9750000238418579 5.859375 29.296875\n",
      "0.9725000262260437 5.859375 29.296875\n",
      "0.9775000214576721 5.859375 29.296875\n",
      "0.9825000166893005 5.859375 29.296875\n",
      "0.9850000143051147 5.859375 29.296875\n",
      "0.9850000143051147 5.859375 29.296875\n",
      "0.9825000166893005 5.859375 29.296875\n",
      "0.9775000214576721 5.859375 29.296875\n",
      "0.9800000190734863 5.859375 29.296875\n",
      "0.9750000238418579 5.859375 29.296875\n",
      "0.9725000262260437 5.859375 29.296875\n",
      "0.9775000214576721 5.859375 29.296875\n",
      "0.9800000190734863 5.859375 29.296875\n",
      "0.9850000143051147 5.859375 29.296875\n",
      "0.9825000166893005 5.859375 29.296875\n",
      "0.9725000262260437 5.859375 29.296875\n",
      "0.9850000143051147 5.859375 29.296875\n",
      "0.987500011920929 5.859375 29.296875\n",
      "0.9900000095367432 5.859375 29.296875\n",
      "0.9900000095367432 5.859375 29.296875\n",
      "0.9900000095367432 5.859375 29.296875\n",
      "0.9775000214576721 5.859375 29.296875\n",
      "0.48750001192092896 5.859375 29.296875\n",
      "1.0 73.2421875 14.6484375\n",
      "1.0 36.62109375 183.10546875\n",
      "0.5 18.310546875 91.552734375\n",
      "0.9975000023841858 228.8818359375 45.7763671875\n",
      "1.0 114.44091796875 572.20458984375\n",
      "1.0 57.220458984375 286.102294921875\n",
      "1.0 28.6102294921875 143.0511474609375\n",
      "1.0 14.30511474609375 71.52557373046875\n",
      "1.0 7.152557373046875 35.762786865234375\n",
      "0.9950000047683716 7.152557373046875 35.762786865234375\n",
      "1.0 7.152557373046875 35.762786865234375\n",
      "1.0 7.152557373046875 35.762786865234375\n",
      "1.0 7.152557373046875 35.762786865234375\n",
      "1.0 7.152557373046875 35.762786865234375\n",
      "1.0 7.152557373046875 35.762786865234375\n",
      "Saving video for you! See you soon!\n"
     ]
    }
   ],
   "source": [
    "\n",
    "cv2.destroyAllWindows()\n",
    "from importlib import reload\n",
    "\n",
    "reload(sys.modules['videorecorder'])\n",
    "reload(sys.modules['cv2'])\n",
    "#from videorecorder import save_to_video, execute_at_exit\n",
    "from artiom_convenience_functions import *\n",
    "\n",
    "from videorecorder import get_new_cv2_imshow\n",
    "my_imshow = get_new_cv2_imshow(cv2.imshow, video_frame_rate=1,\n",
    "                                redraw_only_every_nth_frame=1,\n",
    "                                #last_frame_meditation_time_sec=3,\n",
    "                                #fading_out_time_sec=5)\n",
    "                               )\n",
    "\n",
    "\n",
    "\n",
    "\n",
    "key = None\n",
    "policeman_epochs = 3\n",
    "env_epochs = 3\n",
    "while key not in (27,):\n",
    "    N = 200\n",
    "    seeds = np.random.random(size=(N, 100)).astype(\"float32\").reshape(-1, 100)\n",
    "    faces_drawn_from_seeds = face_gen.predict(seeds, verbose=0)\n",
    "\n",
    "    \n",
    "    \n",
    "    best_ind = np.argmax(policeman.predict(faces_drawn_from_seeds, verbose=0).reshape(-1))\n",
    "    illustration_img = uint8_normalized(cv2.cvtColor(\n",
    "        \n",
    "        fit_img_center(faces_drawn_from_seeds[best_ind].reshape(N_DIM, N_DIM), width=500, height=500,\n",
    "                               interpolation=cv2.INTER_NEAREST), cv2.COLOR_GRAY2RGB))\n",
    "    my_imshow(\"result\", illustration_img)\n",
    "    #send_to_artmonitor(illustration_img, secret=\"artgan\")\n",
    "#     save_to_video((faces_drawn_from_seeds[best_ind].reshape(N_DIM, N_DIM), width=500,\n",
    "#                                interpolation=cv2.INTER_NEAREST))\n",
    "    key = cv2.waitKey(1)\n",
    "\n",
    "    indices = np.random.randint(0, len(faces), size=N)\n",
    "    real_faces = faces[indices]\n",
    "    X = np.concatenate([faces_drawn_from_seeds, real_faces])\n",
    "    Y = np.zeros(\n",
    "    N * 2)\n",
    "\n",
    "    Y[N:] = 1\n",
    "\n",
    "    \n",
    "    \n",
    "\n",
    "    policeman.fit(X, Y, epochs=int(policeman_epochs), shuffle=1, verbose=0)\n",
    "    caught = policeman.evaluate(X, Y, verbose=0)[1]\n",
    "    print(caught, policeman_epochs, env_epochs)\n",
    "\n",
    "\n",
    "\n",
    "\n",
    "\n",
    "\n",
    "    N = 200\n",
    "    seeds = np.random.random(size=(N, 100)).astype(\"float32\").reshape(-1, 100)\n",
    "\n",
    "    ones = np.ones(len(seeds)).reshape(-1, 1)\n",
    "    \n",
    "    if caught > 0.9:\n",
    "          env_epochs = policeman_epochs * 5\n",
    "    elif caught < 0.6:\n",
    "        \n",
    "        policeman_epochs = env_epochs * 5\n",
    "        \n",
    "        \n",
    "    if env_epochs > 10 and policeman_epochs > 10:\n",
    "        env_epochs /= 2\n",
    "        policeman_epochs /= 2\n",
    "    env_model.fit(seeds, ones, shuffle=1, epochs=int(env_epochs), verbose=0)\n",
    "    \n",
    "execute_at_exit()"
   ]
  },
  {
   "cell_type": "code",
   "execution_count": null,
   "id": "9bc87f24",
   "metadata": {},
   "outputs": [],
   "source": [
    "execute_at_exit()"
   ]
  },
  {
   "cell_type": "code",
   "execution_count": null,
   "id": "846f1cc3",
   "metadata": {},
   "outputs": [],
   "source": [
    "cv2.cvtColor(resize(faces_drawn_from_seeds[best_ind].reshape(N_DIM, N_DIM), width=500,\n",
    "                               interpolation=cv2.INTER_NEAREST), cv2.COLOR_GRAY2RGB)"
   ]
  },
  {
   "cell_type": "code",
   "execution_count": null,
   "id": "f7490b75",
   "metadata": {},
   "outputs": [],
   "source": [
    "caught"
   ]
  },
  {
   "cell_type": "code",
   "execution_count": null,
   "id": "18f4b894",
   "metadata": {},
   "outputs": [],
   "source": [
    "policeman.evaluate(X, Y, verbose=0)"
   ]
  },
  {
   "cell_type": "code",
   "execution_count": null,
   "id": "4dc6020d",
   "metadata": {},
   "outputs": [],
   "source": []
  },
  {
   "cell_type": "code",
   "execution_count": null,
   "id": "08c8cea0",
   "metadata": {},
   "outputs": [],
   "source": []
  },
  {
   "cell_type": "code",
   "execution_count": null,
   "id": "8dadfc94",
   "metadata": {},
   "outputs": [],
   "source": []
  },
  {
   "cell_type": "code",
   "execution_count": null,
   "id": "9079e6d1",
   "metadata": {},
   "outputs": [],
   "source": []
  },
  {
   "cell_type": "code",
   "execution_count": null,
   "id": "ea88da19",
   "metadata": {},
   "outputs": [],
   "source": []
  },
  {
   "cell_type": "code",
   "execution_count": null,
   "id": "045c7d20",
   "metadata": {},
   "outputs": [],
   "source": []
  }
 ],
 "metadata": {
  "kernelspec": {
   "display_name": "Python 3 (ipykernel)",
   "language": "python",
   "name": "python3"
  },
  "language_info": {
   "codemirror_mode": {
    "name": "ipython",
    "version": 3
   },
   "file_extension": ".py",
   "mimetype": "text/x-python",
   "name": "python",
   "nbconvert_exporter": "python",
   "pygments_lexer": "ipython3",
   "version": "3.10.4"
  }
 },
 "nbformat": 4,
 "nbformat_minor": 5
}
