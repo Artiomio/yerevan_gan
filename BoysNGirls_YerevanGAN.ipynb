{
 "cells": [
  {
   "cell_type": "code",
   "execution_count": 1,
   "id": "78d12d36",
   "metadata": {},
   "outputs": [],
   "source": [
    "%matplotlib inline\n",
    "from IPython.display import clear_output\n",
    "\n",
    "import gc\n",
    "import os\n",
    "import time\n",
    "import numpy as np\n",
    "import cv2\n",
    "import matplotlib.pyplot as plt\n",
    "from tqdm.notebook import tqdm\n",
    "#from tqdm import tqdm\n",
    "\n",
    "from sklearn.model_selection import train_test_split\n",
    "\n",
    "import keras\n",
    "from keras.models import Sequential\n",
    "from keras.layers import *\n",
    "from keras.layers import Dense, Dropout, Flatten\n",
    "from keras.layers import Conv2D, MaxPooling2D\n",
    "from keras import backend as K\n",
    "\n",
    "from keras import initializers\n",
    "import sys\n",
    "sys.path.append('/home/art/Programming/artlibs')\n",
    "from artiom_convenience_functions import * \n",
    "from videorecorder import save_to_video, execute_at_exit\n",
    "\n"
   ]
  },
  {
   "cell_type": "code",
   "execution_count": 2,
   "id": "2397c7f0",
   "metadata": {},
   "outputs": [],
   "source": [
    "def s(img):\n",
    "    plt.imshow(\n",
    "    img.reshape(\n",
    "    N_DIM, N_DIM), cmap='gray')"
   ]
  },
  {
   "cell_type": "code",
   "execution_count": 3,
   "id": "2a93ca54",
   "metadata": {},
   "outputs": [],
   "source": [
    "N_DIM = 28\n",
    "faces = np.fromfile(f\"girls_img_{N_DIM}x{N_DIM}.bin\", dtype=\"uint8\").reshape(-1, N_DIM * N_DIM) / 255"
   ]
  },
  {
   "cell_type": "code",
   "execution_count": 4,
   "id": "0eae103d",
   "metadata": {},
   "outputs": [
    {
     "data": {
      "image/png": "[encoded data removed]",
      "text/plain": [
       "<Figure size 432x288 with 1 Axes>"
      ]
     },
     "metadata": {
      "needs_background": "light"
     },
     "output_type": "display_data"
    }
   ],
   "source": [
    "s(faces[2])"
   ]
  },
  {
   "cell_type": "markdown",
   "id": "553a9a27",
   "metadata": {},
   "source": [
    "# Face generator"
   ]
  },
  {
   "cell_type": "code",
   "execution_count": 47,
   "id": "cdf3beda",
   "metadata": {},
   "outputs": [],
   "source": [
    "inputs = keras.Input(shape=(100))\n",
    "x = Dense(100, activation='sigmoid')(inputs)\n",
    "x = Dense(1000, activation='sigmoid')(x)\n",
    "outputs = Dense(N_DIM ** 2, activation='sigmoid')(x)\n",
    "face_gen = keras.Model(inputs=inputs, outputs=outputs, name=\"face_generator\")\n",
    "\n",
    "face_gen.compile(\n",
    "\n",
    "    optimizer=keras.optimizers.Adam(0.0001),\n",
    "    metrics=[\"accuracy\"],\n",
    ")"
   ]
  },
  {
   "cell_type": "code",
   "execution_count": null,
   "id": "2295ade9",
   "metadata": {},
   "outputs": [],
   "source": []
  },
  {
   "cell_type": "markdown",
   "id": "0cc41dc1",
   "metadata": {},
   "source": [
    "\n",
    "# policeman "
   ]
  },
  {
   "cell_type": "code",
   "execution_count": 48,
   "id": "0341bb00",
   "metadata": {},
   "outputs": [],
   "source": [
    "inputs = keras.Input(shape=(N_DIM ** 2))\n",
    "x = Dense(1000, activation='sigmoid')(inputs)\n",
    "outputs = Dense(1, activation='sigmoid')(x)\n",
    "policeman = keras.Model(inputs=inputs, outputs=outputs, name=\"policeman\")"
   ]
  },
  {
   "cell_type": "code",
   "execution_count": 49,
   "id": "9cf78dbb",
   "metadata": {},
   "outputs": [],
   "source": [
    "\n",
    "policeman.compile(\n",
    "    loss=keras.losses.BinaryCrossentropy(),\n",
    "    optimizer=keras.optimizers.Adam(0.0001),\n",
    "    metrics=[\"accuracy\"],\n",
    ")"
   ]
  },
  {
   "cell_type": "markdown",
   "id": "ab65e2db",
   "metadata": {},
   "source": [
    "# Среда"
   ]
  },
  {
   "cell_type": "code",
   "execution_count": 50,
   "id": "ab367931",
   "metadata": {},
   "outputs": [],
   "source": [
    "policeman.trainable = False\n",
    "inputs = keras.Input(shape=(100))\n",
    "x = face_gen(inputs)\n",
    "outputs = policeman(x) \n",
    "env_model = keras.Model(inputs=inputs, outputs=outputs, name=\"face_generator\")"
   ]
  },
  {
   "cell_type": "code",
   "execution_count": 51,
   "id": "f0b6702f",
   "metadata": {},
   "outputs": [],
   "source": [
    "\n",
    "env_model.compile( loss=\"MSE\" \n",
    ")"
   ]
  },
  {
   "cell_type": "code",
   "execution_count": 52,
   "id": "5c935c96",
   "metadata": {},
   "outputs": [
    {
     "name": "stdout",
     "output_type": "stream",
     "text": [
      "Model: \"face_generator\"\n",
      "_________________________________________________________________\n",
      " Layer (type)                Output Shape              Param #   \n",
      "=================================================================\n",
      " input_9 (InputLayer)        [(None, 100)]             0         \n",
      "                                                                 \n",
      " face_generator (Functional)  (None, 784)              895884    \n",
      "                                                                 \n",
      " policeman (Functional)      (None, 1)                 786001    \n",
      "                                                                 \n",
      "=================================================================\n",
      "Total params: 1,681,885\n",
      "Trainable params: 895,884\n",
      "Non-trainable params: 786,001\n",
      "_________________________________________________________________\n"
     ]
    }
   ],
   "source": [
    "env_model.summary()"
   ]
  },
  {
   "cell_type": "code",
   "execution_count": 53,
   "id": "9acb5327",
   "metadata": {},
   "outputs": [
    {
     "name": "stdout",
     "output_type": "stream",
     "text": [
      "1/1 [==============================] - 0s 61ms/step\n"
     ]
    },
    {
     "data": {
      "image/png": "[encoded data removed]",
      "text/plain": [
       "<Figure size 432x288 with 1 Axes>"
      ]
     },
     "metadata": {
      "needs_background": "light"
     },
     "output_type": "display_data"
    }
   ],
   "source": [
    "s(\n",
    "    face_gen.predict(\n",
    "        np.random.random(size=100).astype(\"float32\").reshape(1, 100)\n",
    "    ).reshape(N_DIM, N_DIM))"
   ]
  },
  {
   "cell_type": "markdown",
   "id": "02c8fa92",
   "metadata": {},
   "source": [
    "# Учим полицейского"
   ]
  },
  {
   "cell_type": "code",
   "execution_count": null,
   "id": "4d31cb54",
   "metadata": {},
   "outputs": [],
   "source": []
  },
  {
   "cell_type": "code",
   "execution_count": 54,
   "id": "1b78e34f",
   "metadata": {},
   "outputs": [],
   "source": [
    "N = 314\n",
    "seeds = np.random.random(size=(N, 100)).astype(\"float32\").reshape(-1, 100)"
   ]
  },
  {
   "cell_type": "code",
   "execution_count": 55,
   "id": "07e491c5",
   "metadata": {},
   "outputs": [
    {
     "name": "stdout",
     "output_type": "stream",
     "text": [
      "10/10 [==============================] - 0s 2ms/step\n"
     ]
    }
   ],
   "source": [
    "faces_drawn_from_seeds = face_gen.predict(seeds)"
   ]
  },
  {
   "cell_type": "code",
   "execution_count": 56,
   "id": "58db36e6",
   "metadata": {},
   "outputs": [],
   "source": [
    "\n",
    "indices = np.random.randint(0, len(faces), size=N)\n",
    "real_faces = faces[indices]"
   ]
  },
  {
   "cell_type": "code",
   "execution_count": 57,
   "id": "08bb9495",
   "metadata": {},
   "outputs": [
    {
     "data": {
      "text/plain": [
       "(628, 784)"
      ]
     },
     "execution_count": 57,
     "metadata": {},
     "output_type": "execute_result"
    }
   ],
   "source": [
    "X = np.concatenate([faces_drawn_from_seeds, real_faces])\n",
    "X.shape"
   ]
  },
  {
   "cell_type": "code",
   "execution_count": 58,
   "id": "ef810559",
   "metadata": {},
   "outputs": [],
   "source": [
    "Y = np.zeros(\n",
    "N * 2)\n",
    "\n",
    "Y[N:] = 1"
   ]
  },
  {
   "cell_type": "code",
   "execution_count": 59,
   "id": "d3ecbebe",
   "metadata": {},
   "outputs": [
    {
     "data": {
      "text/plain": [
       "array([0., 0., 0., 0., 0., 0., 0., 0., 0., 0., 0., 0., 0., 0., 0., 0., 0.,\n",
       "       0., 0., 0., 0., 0., 0., 0., 0., 0., 0., 0., 0., 0., 0., 0., 0., 0.,\n",
       "       0., 0., 0., 0., 0., 0., 0., 0., 0., 0., 0., 0., 0., 0., 0., 0., 0.,\n",
       "       0., 0., 0., 0., 0., 0., 0., 0., 0., 0., 0., 0., 0., 0., 0., 0., 0.,\n",
       "       0., 0., 0., 0., 0., 0., 0., 0., 0., 0., 0., 0., 0., 0., 0., 0., 0.,\n",
       "       0., 0., 0., 0., 0., 0., 0., 0., 0., 0., 0., 0., 0., 0., 0., 0., 0.,\n",
       "       0., 0., 0., 0., 0., 0., 0., 0., 0., 0., 0., 0., 0., 0., 0., 0., 0.,\n",
       "       0., 0., 0., 0., 0., 0., 0., 0., 0., 0., 0., 0., 0., 0., 0., 0., 0.,\n",
       "       0., 0., 0., 0., 0., 0., 0., 0., 0., 0., 0., 0., 0., 0., 0., 0., 0.,\n",
       "       0., 0., 0., 0., 0., 0., 0., 0., 0., 0., 0., 0., 0., 0., 0., 0., 0.,\n",
       "       0., 0., 0., 0., 0., 0., 0., 0., 0., 0., 0., 0., 0., 0., 0., 0., 0.,\n",
       "       0., 0., 0., 0., 0., 0., 0., 0., 0., 0., 0., 0., 0., 0., 0., 0., 0.,\n",
       "       0., 0., 0., 0., 0., 0., 0., 0., 0., 0., 0., 0., 0., 0., 0., 0., 0.,\n",
       "       0., 0., 0., 0., 0., 0., 0., 0., 0., 0., 0., 0., 0., 0., 0., 0., 0.,\n",
       "       0., 0., 0., 0., 0., 0., 0., 0., 0., 0., 0., 0., 0., 0., 0., 0., 0.,\n",
       "       0., 0., 0., 0., 0., 0., 0., 0., 0., 0., 0., 0., 0., 0., 0., 0., 0.,\n",
       "       0., 0., 0., 0., 0., 0., 0., 0., 0., 0., 0., 0., 0., 0., 0., 0., 0.,\n",
       "       0., 0., 0., 0., 0., 0., 0., 0., 0., 0., 0., 0., 0., 0., 0., 0., 0.,\n",
       "       0., 0., 0., 0., 0., 0., 0., 0., 1., 1., 1., 1., 1., 1., 1., 1., 1.,\n",
       "       1., 1., 1., 1., 1., 1., 1., 1., 1., 1., 1., 1., 1., 1., 1., 1., 1.,\n",
       "       1., 1., 1., 1., 1., 1., 1., 1., 1., 1., 1., 1., 1., 1., 1., 1., 1.,\n",
       "       1., 1., 1., 1., 1., 1., 1., 1., 1., 1., 1., 1., 1., 1., 1., 1., 1.,\n",
       "       1., 1., 1., 1., 1., 1., 1., 1., 1., 1., 1., 1., 1., 1., 1., 1., 1.,\n",
       "       1., 1., 1., 1., 1., 1., 1., 1., 1., 1., 1., 1., 1., 1., 1., 1., 1.,\n",
       "       1., 1., 1., 1., 1., 1., 1., 1., 1., 1., 1., 1., 1., 1., 1., 1., 1.,\n",
       "       1., 1., 1., 1., 1., 1., 1., 1., 1., 1., 1., 1., 1., 1., 1., 1., 1.,\n",
       "       1., 1., 1., 1., 1., 1., 1., 1., 1., 1., 1., 1., 1., 1., 1., 1., 1.,\n",
       "       1., 1., 1., 1., 1., 1., 1., 1., 1., 1., 1., 1., 1., 1., 1., 1., 1.,\n",
       "       1., 1., 1., 1., 1., 1., 1., 1., 1., 1., 1., 1., 1., 1., 1., 1., 1.,\n",
       "       1., 1., 1., 1., 1., 1., 1., 1., 1., 1., 1., 1., 1., 1., 1., 1., 1.,\n",
       "       1., 1., 1., 1., 1., 1., 1., 1., 1., 1., 1., 1., 1., 1., 1., 1., 1.,\n",
       "       1., 1., 1., 1., 1., 1., 1., 1., 1., 1., 1., 1., 1., 1., 1., 1., 1.,\n",
       "       1., 1., 1., 1., 1., 1., 1., 1., 1., 1., 1., 1., 1., 1., 1., 1., 1.,\n",
       "       1., 1., 1., 1., 1., 1., 1., 1., 1., 1., 1., 1., 1., 1., 1., 1., 1.,\n",
       "       1., 1., 1., 1., 1., 1., 1., 1., 1., 1., 1., 1., 1., 1., 1., 1., 1.,\n",
       "       1., 1., 1., 1., 1., 1., 1., 1., 1., 1., 1., 1., 1., 1., 1., 1., 1.,\n",
       "       1., 1., 1., 1., 1., 1., 1., 1., 1., 1., 1., 1., 1., 1., 1., 1.])"
      ]
     },
     "execution_count": 59,
     "metadata": {},
     "output_type": "execute_result"
    }
   ],
   "source": [
    "Y"
   ]
  },
  {
   "cell_type": "code",
   "execution_count": 60,
   "id": "e4bb0858",
   "metadata": {},
   "outputs": [
    {
     "name": "stdout",
     "output_type": "stream",
     "text": [
      "1.0\n"
     ]
    },
    {
     "data": {
      "image/png": "[encoded data removed]",
      "text/plain": [
       "<Figure size 432x288 with 1 Axes>"
      ]
     },
     "metadata": {
      "needs_background": "light"
     },
     "output_type": "display_data"
    }
   ],
   "source": [
    "x, y = X[ind:=np.random.randint(0, len(X))],   Y[ind]\n",
    "print(y)\n",
    "s(x)"
   ]
  },
  {
   "cell_type": "code",
   "execution_count": 61,
   "id": "e82f4566",
   "metadata": {},
   "outputs": [
    {
     "name": "stdout",
     "output_type": "stream",
     "text": [
      "20/20 [==============================] - 0s 3ms/step - loss: 0.5721 - accuracy: 0.8854\n",
      "20/20 [==============================] - 0s 2ms/step - loss: 0.4461 - accuracy: 0.9920\n"
     ]
    },
    {
     "data": {
      "text/plain": [
       "[0.4460926055908203, 0.9920381903648376]"
      ]
     },
     "execution_count": 61,
     "metadata": {},
     "output_type": "execute_result"
    }
   ],
   "source": [
    "policeman.fit(X, Y, epochs=1, shuffle=1)\n",
    "policeman.evaluate(X, Y)"
   ]
  },
  {
   "cell_type": "markdown",
   "id": "b5b6e9bd",
   "metadata": {},
   "source": [
    "# Теперь запускаем срелу"
   ]
  },
  {
   "cell_type": "code",
   "execution_count": 62,
   "id": "9a3497d5",
   "metadata": {},
   "outputs": [],
   "source": [
    "N = 314\n",
    "seeds = np.random.random(size=(N, 100)).astype(\"float32\").reshape(-1, 100)\n",
    "\n",
    "ones = np.ones(len(seeds), dtype=\"float32\").reshape(-1, 1)\n"
   ]
  },
  {
   "cell_type": "code",
   "execution_count": 63,
   "id": "72ba6195",
   "metadata": {},
   "outputs": [
    {
     "data": {
      "text/plain": [
       "(314, 1)"
      ]
     },
     "execution_count": 63,
     "metadata": {},
     "output_type": "execute_result"
    }
   ],
   "source": [
    "ones.shape"
   ]
  },
  {
   "cell_type": "code",
   "execution_count": 64,
   "id": "fd3b907c",
   "metadata": {},
   "outputs": [
    {
     "data": {
      "text/plain": [
       "array([0.39015839, 0.32047784, 0.6400081 , 0.30094343, 0.23447505,\n",
       "       0.961243  , 0.9342645 , 0.49755868, 0.20135891, 0.48975363,\n",
       "       0.8079158 , 0.17340048, 0.74786466, 0.40360737, 0.04812456,\n",
       "       0.93591684, 0.6157523 , 0.441319  , 0.53229165, 0.9542655 ,\n",
       "       0.9354107 , 0.6568511 , 0.44139588, 0.76647264, 0.79463124,\n",
       "       0.24224973, 0.52475953, 0.9879841 , 0.4964697 , 0.34341437,\n",
       "       0.51346695, 0.70614064, 0.04526762, 0.88921106, 0.12421647,\n",
       "       0.6034717 , 0.39970994, 0.12823226, 0.81303734, 0.4339143 ,\n",
       "       0.8827612 , 0.32576987, 0.7572157 , 0.40533796, 0.25805295,\n",
       "       0.13438486, 0.5365228 , 0.14374019, 0.8209075 , 0.37986082,\n",
       "       0.11966461, 0.54607403, 0.90132385, 0.8928998 , 0.13226697,\n",
       "       0.8579472 , 0.14058056, 0.06541643, 0.7343183 , 0.35535914,\n",
       "       0.77508795, 0.83971936, 0.22548844, 0.5061207 , 0.0027692 ,\n",
       "       0.16498642, 0.9629188 , 0.70234513, 0.4888025 , 0.01381415,\n",
       "       0.6526996 , 0.8432889 , 0.03892082, 0.97346914, 0.5165639 ,\n",
       "       0.8388775 , 0.77282625, 0.2725052 , 0.38186434, 0.92825276,\n",
       "       0.50465643, 0.14993535, 0.5304742 , 0.2661001 , 0.8177324 ,\n",
       "       0.47258338, 0.07431641, 0.6190768 , 0.3548104 , 0.04725742,\n",
       "       0.10139516, 0.6733444 , 0.36931244, 0.8743627 , 0.13741277,\n",
       "       0.99636126, 0.6082921 , 0.45842874, 0.07408181, 0.25735658],\n",
       "      dtype=float32)"
      ]
     },
     "execution_count": 64,
     "metadata": {},
     "output_type": "execute_result"
    }
   ],
   "source": [
    "\n",
    "seeds[0]"
   ]
  },
  {
   "cell_type": "code",
   "execution_count": 65,
   "id": "4c52590a",
   "metadata": {},
   "outputs": [
    {
     "name": "stdout",
     "output_type": "stream",
     "text": [
      "10/10 [==============================] - 0s 4ms/step - loss: 0.0456\n"
     ]
    },
    {
     "data": {
      "text/plain": [
       "<keras.callbacks.History at 0x7f9cf87be320>"
      ]
     },
     "execution_count": 65,
     "metadata": {},
     "output_type": "execute_result"
    }
   ],
   "source": [
    "env_model.fit(seeds, ones, shuffle=1, epochs=1)"
   ]
  },
  {
   "cell_type": "markdown",
   "id": "9851acb0",
   "metadata": {},
   "source": [
    "# В цикле"
   ]
  },
  {
   "cell_type": "code",
   "execution_count": 66,
   "id": "16686294",
   "metadata": {},
   "outputs": [
    {
     "data": {
      "text/plain": [
       "array([0.61438876, 0.6531548 , 0.386648  , 0.49849305, 0.44083682,\n",
       "       0.6654767 , 0.50660163, 0.47413066, 0.6155255 , 0.55053896,\n",
       "       0.57648903, 0.43676817, 0.3511715 , 0.31678697, 0.35342574,\n",
       "       0.5758026 , 0.6920309 , 0.32580373, 0.6113828 , 0.2599107 ,\n",
       "       0.39503226, 0.538586  , 0.5553429 , 0.40672582, 0.46821126,\n",
       "       0.6033671 , 0.37281278, 0.533366  , 0.5044116 , 0.50984126,\n",
       "       0.28782454, 0.4602436 , 0.48933825, 0.3162599 , 0.5878322 ,\n",
       "       0.82849073, 0.41570616, 0.65937215, 0.44764903, 0.52677375,\n",
       "       0.63065   , 0.57068825, 0.32456297, 0.3854066 , 0.37122414,\n",
       "       0.44681564, 0.28810045, 0.41285333, 0.4132294 , 0.3623539 ,\n",
       "       0.20966575, 0.58686817, 0.5439159 , 0.41925812, 0.6811166 ,\n",
       "       0.4712052 , 0.4888963 , 0.66034883, 0.66600686, 0.3228916 ,\n",
       "       0.3374365 , 0.47166705, 0.570598  , 0.43825486, 0.72963804,\n",
       "       0.22179519, 0.700374  , 0.35474625, 0.23250693, 0.37428236,\n",
       "       0.3614839 , 0.468887  , 0.6987899 , 0.6220226 , 0.3596411 ,\n",
       "       0.51063716, 0.60382026, 0.6211249 , 0.37920007, 0.7130887 ,\n",
       "       0.43945393, 0.49203107, 0.28265572, 0.45166793, 0.45536032,\n",
       "       0.57255447, 0.6769921 , 0.4514102 , 0.503145  , 0.4742047 ,\n",
       "       0.57122785, 0.6550987 , 0.42127487, 0.619575  , 0.5803577 ,\n",
       "       0.534441  , 0.2922406 , 0.32887644, 0.5292598 , 0.6312684 ,\n",
       "       0.39484936, 0.5559652 , 0.525908  , 0.3493925 , 0.5941232 ,\n",
       "       0.31393456, 0.5881769 , 0.5315295 , 0.5768976 , 0.4056453 ,\n",
       "       0.6198347 , 0.38226053, 0.5063215 , 0.24111548, 0.5220034 ,\n",
       "       0.5673388 , 0.38875946, 0.5063552 , 0.5140204 , 0.7368378 ,\n",
       "       0.4268314 , 0.5067485 , 0.5485612 , 0.4815438 , 0.44828096,\n",
       "       0.6382426 , 0.33043528, 0.4445666 , 0.29156923, 0.6036277 ,\n",
       "       0.41557246, 0.52676773, 0.6665035 , 0.4297267 , 0.48332545,\n",
       "       0.53287953, 0.64957064, 0.3112617 , 0.47932327, 0.3311484 ,\n",
       "       0.41453728, 0.309218  , 0.37336898, 0.6387157 , 0.5657133 ,\n",
       "       0.6746005 , 0.606165  , 0.7020163 , 0.5287393 , 0.5367314 ,\n",
       "       0.85698235, 0.4222455 , 0.43149412, 0.52287316, 0.35915968,\n",
       "       0.6964663 , 0.6097506 , 0.4771486 , 0.32866395, 0.23472327,\n",
       "       0.50265837, 0.3388374 , 0.6788864 , 0.56164074, 0.6412448 ,\n",
       "       0.601371  , 0.44601384, 0.6352196 , 0.50406253, 0.6681709 ,\n",
       "       0.46144116, 0.4683424 , 0.48157358, 0.6336516 , 0.50356466,\n",
       "       0.5556601 , 0.51937735, 0.4826659 , 0.45156556, 0.43604395,\n",
       "       0.53681654, 0.5495456 , 0.49972883, 0.41997966, 0.6764709 ,\n",
       "       0.40707865, 0.54596055, 0.3870796 , 0.6954145 , 0.40804183,\n",
       "       0.5444993 , 0.47186476, 0.49455324, 0.42662102, 0.54495424,\n",
       "       0.66905546, 0.44768372, 0.59318   , 0.34070522, 0.45941317,\n",
       "       0.6031658 , 0.3928467 , 0.626242  , 0.67528987, 0.3547015 ,\n",
       "       0.387734  , 0.521792  , 0.19717191, 0.7559282 , 0.5751381 ,\n",
       "       0.6499752 , 0.5123796 , 0.5722871 , 0.49087995, 0.718885  ,\n",
       "       0.5534899 , 0.28315246, 0.6592227 , 0.71563196, 0.4614999 ,\n",
       "       0.57951677, 0.60323286, 0.47806945, 0.3446033 , 0.4625731 ,\n",
       "       0.535475  , 0.5074795 , 0.45323244, 0.33726338, 0.34111008,\n",
       "       0.52137095, 0.5212949 , 0.5636598 , 0.564698  , 0.35476217,\n",
       "       0.62401277, 0.5062017 , 0.5085186 , 0.64181703, 0.46906224,\n",
       "       0.25031847, 0.47375622, 0.43358877, 0.5826897 , 0.50535464,\n",
       "       0.68435764, 0.35755673, 0.6661595 , 0.7050961 , 0.70137423,\n",
       "       0.65718967, 0.5002489 , 0.5395121 , 0.28082395, 0.49531388,\n",
       "       0.496158  , 0.53641224, 0.51929945, 0.24814679, 0.5527208 ,\n",
       "       0.37521246, 0.7047411 , 0.38273835, 0.5307469 , 0.43138903,\n",
       "       0.5827309 , 0.5862484 , 0.41281426, 0.6614242 , 0.46865898,\n",
       "       0.79159325, 0.6914067 , 0.4684472 , 0.6488425 , 0.65424865,\n",
       "       0.5986865 , 0.6763323 , 0.37377784, 0.58510244, 0.65742475,\n",
       "       0.63887656, 0.335131  , 0.655196  , 0.45210746, 0.5566522 ,\n",
       "       0.37655625, 0.3494878 , 0.57381606, 0.45503518, 0.5484876 ,\n",
       "       0.39930093, 0.5670309 , 0.26649088, 0.6048951 , 0.42168838,\n",
       "       0.5116432 , 0.6342366 , 0.4265766 , 0.3675215 , 0.60274315,\n",
       "       0.44793424, 0.5653174 , 0.51734424, 0.4667143 , 0.47351825,\n",
       "       0.6902381 , 0.4783257 , 0.48116177, 0.58675504, 0.6808723 ,\n",
       "       0.5456849 , 0.3983278 , 0.639663  , 0.5020009 , 0.37801215,\n",
       "       0.43524837, 0.4378858 , 0.52480024, 0.62036955, 0.28155804,\n",
       "       0.67090166, 0.5230174 , 0.55214083, 0.72905886, 0.3272962 ,\n",
       "       0.40285212, 0.675171  , 0.30911168, 0.50974834, 0.58582455,\n",
       "       0.3535904 , 0.5092871 , 0.5374952 , 0.5877174 , 0.7945454 ,\n",
       "       0.41584525, 0.3198725 , 0.42966008, 0.44291276, 0.50439554,\n",
       "       0.37223098, 0.48728555, 0.3856187 , 0.64085454, 0.46292213,\n",
       "       0.40792328, 0.35467377, 0.5775061 , 0.44490075, 0.45924342,\n",
       "       0.3488386 , 0.38388726, 0.63798004, 0.26920396, 0.46824765,\n",
       "       0.45582968, 0.687227  , 0.58975947, 0.6380002 , 0.6741621 ,\n",
       "       0.492006  , 0.5741236 , 0.5095116 , 0.5594516 , 0.6577631 ,\n",
       "       0.27916744, 0.6988197 , 0.50382465, 0.6040888 , 0.5726563 ,\n",
       "       0.49543217, 0.7005896 , 0.7564588 , 0.25976953, 0.5847461 ,\n",
       "       0.5141645 , 0.54188496, 0.65272135, 0.4399718 , 0.5681496 ,\n",
       "       0.38498658, 0.59905225, 0.61163276, 0.61862075, 0.5292421 ,\n",
       "       0.6740358 , 0.50216   , 0.7241552 , 0.7489516 , 0.60540605,\n",
       "       0.32812002, 0.64026123, 0.48091984, 0.51633394, 0.44954738,\n",
       "       0.46117535, 0.3606768 , 0.39779958, 0.6680866 , 0.6709272 ,\n",
       "       0.4226401 , 0.43251583, 0.25988185, 0.4415334 , 0.4091621 ,\n",
       "       0.45738897, 0.42692682, 0.6528506 , 0.26023802, 0.57194084,\n",
       "       0.6689278 , 0.31832436, 0.67273873, 0.37600857, 0.41221896,\n",
       "       0.7309316 , 0.40293086, 0.5350478 , 0.35625643, 0.24413183,\n",
       "       0.42250195, 0.55291843, 0.47935846, 0.49530768, 0.42106548,\n",
       "       0.50446206, 0.23472123, 0.3447348 , 0.640111  , 0.39675352,\n",
       "       0.5288169 , 0.60690844, 0.5294737 , 0.39611986, 0.44170114,\n",
       "       0.63476986, 0.3538416 , 0.28840318, 0.47276884, 0.53591824,\n",
       "       0.27057496, 0.38624206, 0.4238963 , 0.5769875 , 0.6730638 ,\n",
       "       0.55873865, 0.54004943, 0.6098272 , 0.56606346, 0.4817276 ,\n",
       "       0.5915212 , 0.57735586, 0.7044268 , 0.42767897, 0.34977156,\n",
       "       0.46624634, 0.55925363, 0.53872675, 0.6985027 , 0.7204133 ,\n",
       "       0.44175902, 0.5542171 , 0.48685798, 0.44281316, 0.3971737 ,\n",
       "       0.37651777, 0.5102452 , 0.36672977, 0.48550776, 0.57014996,\n",
       "       0.5557795 , 0.5838602 , 0.610824  , 0.4479468 , 0.707479  ,\n",
       "       0.55711335, 0.514661  , 0.7423163 , 0.4615374 , 0.641322  ,\n",
       "       0.44890606, 0.25412253, 0.47466594, 0.5613419 , 0.6768245 ,\n",
       "       0.4752202 , 0.63975793, 0.41982043, 0.5863142 , 0.34255627,\n",
       "       0.59907925, 0.5341686 , 0.35947827, 0.58424187, 0.56101835,\n",
       "       0.62218916, 0.57346934, 0.78912425, 0.49694702, 0.5261886 ,\n",
       "       0.45727962, 0.6508608 , 0.7709033 , 0.5605334 , 0.5851148 ,\n",
       "       0.3617736 , 0.43997994, 0.32061046, 0.45097998, 0.49707264,\n",
       "       0.44616458, 0.59657234, 0.33100927, 0.7363819 , 0.5888237 ,\n",
       "       0.27069977, 0.41851652, 0.39188364, 0.5026014 , 0.4954289 ,\n",
       "       0.6073461 , 0.5683679 , 0.31671202, 0.65288174, 0.48376384,\n",
       "       0.7475379 , 0.5071142 , 0.5344877 , 0.4431042 , 0.55485123,\n",
       "       0.5138363 , 0.3964149 , 0.5863637 , 0.24478707, 0.44742182,\n",
       "       0.46955538, 0.53425413, 0.6512866 , 0.5098338 , 0.5288218 ,\n",
       "       0.5766946 , 0.41355732, 0.37525627, 0.27829382, 0.604469  ,\n",
       "       0.54479617, 0.70471555, 0.6525846 , 0.5507677 , 0.6183675 ,\n",
       "       0.430899  , 0.5990505 , 0.6755783 , 0.57562584, 0.5767711 ,\n",
       "       0.4157279 , 0.61853725, 0.6247122 , 0.7929759 , 0.3799742 ,\n",
       "       0.61815304, 0.50040895, 0.56305456, 0.32335064, 0.5840304 ,\n",
       "       0.6135413 , 0.58883375, 0.37185574, 0.58492666, 0.46236455,\n",
       "       0.2253903 , 0.5732034 , 0.34669212, 0.41911003, 0.4748189 ,\n",
       "       0.56377184, 0.5367147 , 0.60008323, 0.56571794, 0.2935524 ,\n",
       "       0.36136964, 0.4784755 , 0.5929873 , 0.32606062, 0.64158136,\n",
       "       0.44382346, 0.37226152, 0.55060303, 0.40405074, 0.3003629 ,\n",
       "       0.62315154, 0.49279073, 0.596539  , 0.53509176, 0.40841234,\n",
       "       0.570434  , 0.46708113, 0.2943095 , 0.3831625 , 0.42463353,\n",
       "       0.4375246 , 0.4684095 , 0.33777803, 0.4986983 , 0.6332834 ,\n",
       "       0.6104333 , 0.5307222 , 0.43656275, 0.7620101 , 0.7107114 ,\n",
       "       0.5098805 , 0.52559495, 0.54099447, 0.5488082 , 0.5975296 ,\n",
       "       0.7405508 , 0.51594007, 0.44012913, 0.7276597 , 0.6199832 ,\n",
       "       0.44487643, 0.39647862, 0.5014771 , 0.4440239 , 0.42104372,\n",
       "       0.36539695, 0.57838   , 0.42917064, 0.6432282 , 0.4809741 ,\n",
       "       0.30503538, 0.36676326, 0.48220855, 0.5081839 , 0.29554644,\n",
       "       0.48584536, 0.58652586, 0.71553695, 0.41276377, 0.65422565,\n",
       "       0.41917428, 0.5269903 , 0.6343051 , 0.6301934 , 0.30597106,\n",
       "       0.338961  , 0.34988075, 0.5366241 , 0.45956337, 0.5574848 ,\n",
       "       0.58941233, 0.27921477, 0.7001754 , 0.40668485, 0.43049842,\n",
       "       0.19446687, 0.58824223, 0.3998528 , 0.6618783 , 0.4439646 ,\n",
       "       0.5679918 , 0.40299752, 0.40316796, 0.43264297, 0.48033595,\n",
       "       0.4191174 , 0.5436891 , 0.36974704, 0.53529716, 0.4110746 ,\n",
       "       0.68752694, 0.3387065 , 0.56790155, 0.49288794, 0.36633345,\n",
       "       0.59643686, 0.62822276, 0.62528896, 0.7234264 , 0.4750669 ,\n",
       "       0.74323595, 0.39781362, 0.39871505, 0.50302   , 0.38466296,\n",
       "       0.4046185 , 0.6727169 , 0.4526416 , 0.46693164, 0.6310622 ,\n",
       "       0.5354387 , 0.49079803, 0.36904642, 0.5494719 , 0.32421607,\n",
       "       0.3237853 , 0.39311662, 0.31093216, 0.44780365, 0.6570766 ,\n",
       "       0.6124231 , 0.57631785, 0.43140838, 0.4572396 , 0.65593445,\n",
       "       0.39583153, 0.4396019 , 0.6689239 , 0.36110356, 0.3952084 ,\n",
       "       0.37090123, 0.69544387, 0.4915967 , 0.36338282, 0.44937432,\n",
       "       0.48151833, 0.5741207 , 0.39646795, 0.50096565, 0.30586195,\n",
       "       0.49182475, 0.30007097, 0.4838431 , 0.3781383 , 0.32951242,\n",
       "       0.422665  , 0.5516692 , 0.38631517, 0.41219604, 0.31241658,\n",
       "       0.51756525, 0.6649592 , 0.5535338 , 0.40231383, 0.50780964,\n",
       "       0.41381878, 0.3275338 , 0.6779853 , 0.47837254, 0.28066272,\n",
       "       0.28793424, 0.42993915, 0.66807985, 0.66281205, 0.7074828 ,\n",
       "       0.48447785, 0.43076122, 0.54055667, 0.57432264, 0.3062021 ,\n",
       "       0.45978218, 0.36537606, 0.42734358, 0.56782216, 0.67488915,\n",
       "       0.5713154 , 0.46262902, 0.40730193, 0.5346872 , 0.47105703,\n",
       "       0.40794313, 0.3728605 , 0.5877748 , 0.5098678 , 0.4610423 ,\n",
       "       0.5174563 , 0.40604866, 0.6717449 , 0.5817867 , 0.5226    ,\n",
       "       0.6998623 , 0.36998037, 0.5877494 , 0.4073973 , 0.63127744,\n",
       "       0.44676867, 0.25300932, 0.51555055, 0.5731318 , 0.48439872,\n",
       "       0.56651455, 0.49322355, 0.40715247, 0.59147805], dtype=float32)"
      ]
     },
     "execution_count": 66,
     "metadata": {},
     "output_type": "execute_result"
    }
   ],
   "source": [
    "faces_drawn_from_seeds[0]"
   ]
  },
  {
   "cell_type": "code",
   "execution_count": null,
   "id": "0b9fb290",
   "metadata": {},
   "outputs": [],
   "source": []
  },
  {
   "cell_type": "code",
   "execution_count": 74,
   "id": "417f21e5",
   "metadata": {},
   "outputs": [
    {
     "name": "stdout",
     "output_type": "stream",
     "text": [
      "5/5 [==============================] - 0s 2ms/step\n",
      "5/5 [==============================] - 0s 2ms/step\n",
      "5/5 [==============================] - 0s 2ms/step\n",
      "5/5 [==============================] - 0s 1ms/step\n",
      "5/5 [==============================] - 0s 1ms/step\n",
      "5/5 [==============================] - 0s 2ms/step\n",
      "5/5 [==============================] - 0s 2ms/step\n",
      "5/5 [==============================] - 0s 1ms/step\n",
      "5/5 [==============================] - 0s 2ms/step\n",
      "5/5 [==============================] - 0s 2ms/step\n",
      "5/5 [==============================] - 0s 1ms/step\n",
      "5/5 [==============================] - 0s 1ms/step\n",
      "5/5 [==============================] - 0s 1ms/step\n",
      "5/5 [==============================] - 0s 1ms/step\n",
      "5/5 [==============================] - 0s 1ms/step\n",
      "5/5 [==============================] - 0s 1ms/step\n",
      "5/5 [==============================] - 0s 1ms/step\n",
      "5/5 [==============================] - 0s 2ms/step\n",
      "5/5 [==============================] - 0s 2ms/step\n",
      "5/5 [==============================] - 0s 1ms/step\n",
      "5/5 [==============================] - 0s 2ms/step\n",
      "5/5 [==============================] - 0s 2ms/step\n",
      "5/5 [==============================] - 0s 1ms/step\n",
      "5/5 [==============================] - 0s 2ms/step\n",
      "5/5 [==============================] - 0s 1ms/step\n",
      "5/5 [==============================] - 0s 1ms/step\n",
      "5/5 [==============================] - 0s 2ms/step\n",
      "5/5 [==============================] - 0s 1ms/step\n",
      "5/5 [==============================] - 0s 1ms/step\n",
      "5/5 [==============================] - 0s 2ms/step\n",
      "5/5 [==============================] - 0s 1ms/step\n",
      "5/5 [==============================] - 0s 2ms/step\n",
      "5/5 [==============================] - 0s 2ms/step\n",
      "5/5 [==============================] - 0s 2ms/step\n",
      "5/5 [==============================] - 0s 1ms/step\n",
      "5/5 [==============================] - 0s 1ms/step\n",
      "5/5 [==============================] - 0s 1ms/step\n",
      "5/5 [==============================] - 0s 3ms/step\n",
      "5/5 [==============================] - 0s 1ms/step\n",
      "5/5 [==============================] - 0s 1ms/step\n",
      "5/5 [==============================] - 0s 2ms/step\n",
      "5/5 [==============================] - 0s 1ms/step\n",
      "5/5 [==============================] - 0s 1ms/step\n",
      "5/5 [==============================] - 0s 1ms/step\n",
      "5/5 [==============================] - 0s 1ms/step\n",
      "5/5 [==============================] - 0s 2ms/step\n",
      "5/5 [==============================] - 0s 2ms/step\n",
      "5/5 [==============================] - 0s 1ms/step\n",
      "5/5 [==============================] - 0s 1ms/step\n",
      "5/5 [==============================] - 0s 1ms/step\n",
      "5/5 [==============================] - 0s 1ms/step\n",
      "5/5 [==============================] - 0s 1ms/step\n",
      "5/5 [==============================] - 0s 1ms/step\n",
      "5/5 [==============================] - 0s 1ms/step\n",
      "5/5 [==============================] - 0s 1ms/step\n",
      "5/5 [==============================] - 0s 2ms/step\n",
      "5/5 [==============================] - 0s 2ms/step\n",
      "5/5 [==============================] - 0s 1ms/step\n",
      "5/5 [==============================] - 0s 2ms/step\n",
      "5/5 [==============================] - 0s 1ms/step\n",
      "5/5 [==============================] - 0s 1ms/step\n",
      "5/5 [==============================] - 0s 1ms/step\n",
      "5/5 [==============================] - 0s 2ms/step\n",
      "5/5 [==============================] - 0s 2ms/step\n",
      "5/5 [==============================] - 0s 2ms/step\n",
      "5/5 [==============================] - 0s 2ms/step\n",
      "5/5 [==============================] - 0s 1ms/step\n",
      "5/5 [==============================] - 0s 2ms/step\n",
      "5/5 [==============================] - 0s 2ms/step\n",
      "5/5 [==============================] - 0s 2ms/step\n",
      "5/5 [==============================] - 0s 2ms/step\n",
      "5/5 [==============================] - 0s 1ms/step\n",
      "5/5 [==============================] - 0s 1ms/step\n",
      "5/5 [==============================] - 0s 1ms/step\n",
      "5/5 [==============================] - 0s 2ms/step\n",
      "5/5 [==============================] - 0s 2ms/step\n",
      "5/5 [==============================] - 0s 1ms/step\n",
      "5/5 [==============================] - 0s 2ms/step\n",
      "5/5 [==============================] - 0s 1ms/step\n",
      "5/5 [==============================] - 0s 1ms/step\n",
      "5/5 [==============================] - 0s 2ms/step\n",
      "5/5 [==============================] - 0s 1ms/step\n",
      "5/5 [==============================] - 0s 1ms/step\n",
      "5/5 [==============================] - 0s 2ms/step\n",
      "5/5 [==============================] - 0s 1ms/step\n",
      "5/5 [==============================] - 0s 2ms/step\n",
      "5/5 [==============================] - 0s 1ms/step\n",
      "5/5 [==============================] - 0s 1ms/step\n",
      "5/5 [==============================] - 0s 1ms/step\n",
      "5/5 [==============================] - 0s 2ms/step\n",
      "5/5 [==============================] - 0s 1ms/step\n",
      "5/5 [==============================] - 0s 1ms/step\n",
      "5/5 [==============================] - 0s 2ms/step\n",
      "5/5 [==============================] - 0s 1ms/step\n",
      "5/5 [==============================] - 0s 2ms/step\n",
      "5/5 [==============================] - 0s 1ms/step\n"
     ]
    }
   ],
   "source": [
    "key = None\n",
    "while key not in (27,):\n",
    "    N = 140\n",
    "    seeds = np.random.random(size=(N, 100)).astype(\"float32\").reshape(-1, 100)\n",
    "    faces_drawn_from_seeds = face_gen.predict(seeds, verbose=0)\n",
    "\n",
    "    \n",
    "    \n",
    "    best_ind = np.argmax(policeman.predict(faces_drawn_from_seeds).reshape(-1))\n",
    "    cv2.imshow(\"result\", resize(faces_drawn_from_seeds[best_ind].reshape(N_DIM, N_DIM), width=500,\n",
    "                               interpolation=cv2.INTER_NEAREST))\n",
    "    key = cv2.waitKey(1)\n",
    "\n",
    "    indices = np.random.randint(0, len(faces), size=N)\n",
    "    real_faces = faces[indices]\n",
    "    X = np.concatenate([faces_drawn_from_seeds, real_faces])\n",
    "    Y = np.zeros(\n",
    "    N * 2)\n",
    "\n",
    "    Y[N:] = 1\n",
    "\n",
    "\n",
    "    policeman.fit(X, Y, epochs=5, shuffle=1, verbose=0)\n",
    "    policeman.evaluate(X, Y, verbose=0)\n",
    "\n",
    "\n",
    "\n",
    "\n",
    "\n",
    "\n",
    "    N = 140\n",
    "    seeds = np.random.random(size=(N, 100)).astype(\"float32\").reshape(-1, 100)\n",
    "\n",
    "    ones = np.ones(len(seeds)).reshape(-1, 1)\n",
    "    env_model.fit(seeds, ones, shuffle=1, epochs=1, verbose=0)"
   ]
  },
  {
   "cell_type": "code",
   "execution_count": null,
   "id": "50cc653b",
   "metadata": {},
   "outputs": [],
   "source": []
  },
  {
   "cell_type": "code",
   "execution_count": null,
   "id": "4f6dcf68",
   "metadata": {},
   "outputs": [],
   "source": []
  },
  {
   "cell_type": "code",
   "execution_count": null,
   "id": "c37db537",
   "metadata": {},
   "outputs": [],
   "source": []
  }
 ],
 "metadata": {
  "kernelspec": {
   "display_name": "Python 3 (ipykernel)",
   "language": "python",
   "name": "python3"
  },
  "language_info": {
   "codemirror_mode": {
    "name": "ipython",
    "version": 3
   },
   "file_extension": ".py",
   "mimetype": "text/x-python",
   "name": "python",
   "nbconvert_exporter": "python",
   "pygments_lexer": "ipython3",
   "version": "3.10.4"
  }
 },
 "nbformat": 4,
 "nbformat_minor": 5
}
