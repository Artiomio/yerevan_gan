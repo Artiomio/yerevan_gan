{
 "cells": [
  {
   "cell_type": "code",
   "execution_count": 1,
   "id": "78d12d36",
   "metadata": {},
   "outputs": [],
   "source": [
    "%matplotlib inline\n",
    "from IPython.display import clear_output\n",
    "\n",
    "import gc\n",
    "import os\n",
    "import time\n",
    "import numpy as np\n",
    "import cv2\n",
    "import matplotlib.pyplot as plt\n",
    "from tqdm.notebook import tqdm\n",
    "#from tqdm import tqdm\n",
    "\n",
    "from sklearn.model_selection import train_test_split\n",
    "\n",
    "import keras\n",
    "from keras.models import Sequential\n",
    "from keras.layers import *\n",
    "from keras.layers import Dense, Dropout, Flatten\n",
    "from keras.layers import Conv2D, MaxPooling2D\n",
    "from keras import backend as K\n",
    "\n",
    "from keras import initializers\n",
    "import sys\n",
    "sys.path.append('/home/art/Programming/artlibs')\n",
    "from artiom_convenience_functions import * \n",
    "from videorecorder import save_to_video, execute_at_exit\n",
    "\n"
   ]
  },
  {
   "cell_type": "code",
   "execution_count": 2,
   "id": "f31f5810",
   "metadata": {},
   "outputs": [],
   "source": [
    "def s(img):\n",
    "    plt.imshow(\n",
    "    img.reshape(\n",
    "    N_DIM, N_DIM), cmap='gray')"
   ]
  },
  {
   "cell_type": "code",
   "execution_count": 3,
   "id": "2a93ca54",
   "metadata": {},
   "outputs": [],
   "source": [
    "N_DIM = 64\n",
    "faces = np.fromfile(f\"girls_img_{N_DIM}x{N_DIM}.bin\", dtype=\"uint8\").reshape(-1, N_DIM * N_DIM) / 255"
   ]
  },
  {
   "cell_type": "code",
   "execution_count": 4,
   "id": "0eae103d",
   "metadata": {},
   "outputs": [
    {
     "data": {
      "image/png": "[encoded data removed]",
      "text/plain": [
       "<Figure size 432x288 with 1 Axes>"
      ]
     },
     "metadata": {
      "needs_background": "light"
     },
     "output_type": "display_data"
    }
   ],
   "source": [
    "s(faces[2])"
   ]
  },
  {
   "cell_type": "markdown",
   "id": "d0a4ca05",
   "metadata": {},
   "source": [
    "# Face generator"
   ]
  },
  {
   "cell_type": "code",
   "execution_count": 5,
   "id": "cdf3beda",
   "metadata": {},
   "outputs": [],
   "source": [
    "inputs = keras.Input(shape=(100))\n",
    "x = Dense(100, activation='elu')(inputs)\n",
    "#x = Dropout(0.2)(x)\n",
    "x = Dense(1000, activation='sigmoid')(x)\n",
    "x = Dropout(0.5)(x)\n",
    "outputs = Dense(N_DIM ** 2, activation='sigmoid')(x)\n",
    "face_gen = keras.Model(inputs=inputs, outputs=outputs, name=\"face_generator\")\n",
    "\n",
    "face_gen.compile(\n",
    "\n",
    "    optimizer=keras.optimizers.Adam(0.00001),\n",
    "    metrics=[\"accuracy\"],\n",
    ")"
   ]
  },
  {
   "cell_type": "code",
   "execution_count": null,
   "id": "2295ade9",
   "metadata": {},
   "outputs": [],
   "source": []
  },
  {
   "cell_type": "markdown",
   "id": "7335e045",
   "metadata": {},
   "source": [
    "\n",
    "# policeman "
   ]
  },
  {
   "cell_type": "code",
   "execution_count": 6,
   "id": "03bf0092",
   "metadata": {},
   "outputs": [],
   "source": [
    "inputs = keras.Input(shape=(N_DIM ** 2))\n",
    "x = Dropout(0.5)(inputs)\n",
    "x = Dense(1000, activation='sigmoid')(x)\n",
    "x = Dropout(0.5)(x)\n",
    "x = Dense(1000, activation='sigmoid')(x)\n",
    "\n",
    "outputs = Dense(1, activation='sigmoid')(x)\n",
    "policeman = keras.Model(inputs=inputs, outputs=outputs, name=\"policeman\")"
   ]
  },
  {
   "cell_type": "code",
   "execution_count": 7,
   "id": "ee12acf5",
   "metadata": {},
   "outputs": [],
   "source": [
    "\n",
    "policeman.compile(\n",
    "    loss=keras.losses.BinaryCrossentropy(),\n",
    "    optimizer=keras.optimizers.Adam(0.00001),\n",
    "    metrics=[\"accuracy\"],\n",
    ")"
   ]
  },
  {
   "cell_type": "markdown",
   "id": "b8fae1bf",
   "metadata": {},
   "source": [
    "# Среда"
   ]
  },
  {
   "cell_type": "code",
   "execution_count": 8,
   "id": "4fbaf6d2",
   "metadata": {},
   "outputs": [],
   "source": [
    "policeman.trainable = False\n",
    "inputs = keras.Input(shape=(100))\n",
    "x = face_gen(inputs)\n",
    "outputs = policeman(x) \n",
    "env_model = keras.Model(inputs=inputs, outputs=outputs, name=\"face_generator\")"
   ]
  },
  {
   "cell_type": "code",
   "execution_count": 9,
   "id": "a5dbdd81",
   "metadata": {},
   "outputs": [],
   "source": [
    "\n",
    "env_model.compile( loss=\"binary_crossentropy\" \n",
    ")"
   ]
  },
  {
   "cell_type": "code",
   "execution_count": 10,
   "id": "3493360e",
   "metadata": {},
   "outputs": [
    {
     "name": "stdout",
     "output_type": "stream",
     "text": [
      "Model: \"face_generator\"\n",
      "_________________________________________________________________\n",
      " Layer (type)                Output Shape              Param #   \n",
      "=================================================================\n",
      " input_3 (InputLayer)        [(None, 100)]             0         \n",
      "                                                                 \n",
      " face_generator (Functional)  (None, 4096)             4211196   \n",
      "                                                                 \n",
      " policeman (Functional)      (None, 1)                 5099001   \n",
      "                                                                 \n",
      "=================================================================\n",
      "Total params: 9,310,197\n",
      "Trainable params: 4,211,196\n",
      "Non-trainable params: 5,099,001\n",
      "_________________________________________________________________\n"
     ]
    }
   ],
   "source": [
    "env_model.summary()"
   ]
  },
  {
   "cell_type": "code",
   "execution_count": 11,
   "id": "45f93b80",
   "metadata": {},
   "outputs": [
    {
     "name": "stdout",
     "output_type": "stream",
     "text": [
      "1/1 [==============================] - 1s 1s/step\n"
     ]
    },
    {
     "data": {
      "image/png": "[encoded data removed]",
      "text/plain": [
       "<Figure size 432x288 with 1 Axes>"
      ]
     },
     "metadata": {
      "needs_background": "light"
     },
     "output_type": "display_data"
    }
   ],
   "source": [
    "s(\n",
    "    face_gen.predict(\n",
    "        np.random.random(size=100).astype(\"float32\").reshape(1, 100)\n",
    "    ).reshape(N_DIM, N_DIM))"
   ]
  },
  {
   "cell_type": "markdown",
   "id": "0da0c8c7",
   "metadata": {},
   "source": [
    "# Учим полицейского"
   ]
  },
  {
   "cell_type": "code",
   "execution_count": null,
   "id": "341e0019",
   "metadata": {},
   "outputs": [],
   "source": []
  },
  {
   "cell_type": "code",
   "execution_count": 12,
   "id": "55146b40",
   "metadata": {},
   "outputs": [],
   "source": [
    "N = 314\n",
    "seeds = np.random.random(size=(N, 100)).astype(\"float32\").reshape(-1, 100)"
   ]
  },
  {
   "cell_type": "code",
   "execution_count": 13,
   "id": "ac0d159d",
   "metadata": {},
   "outputs": [
    {
     "name": "stdout",
     "output_type": "stream",
     "text": [
      "10/10 [==============================] - 0s 1ms/step\n"
     ]
    }
   ],
   "source": [
    "faces_drawn_from_seeds = face_gen.predict(seeds)"
   ]
  },
  {
   "cell_type": "code",
   "execution_count": 14,
   "id": "67d24089",
   "metadata": {},
   "outputs": [],
   "source": [
    "\n",
    "indices = np.random.randint(0, len(faces), size=N)\n",
    "real_faces = faces[indices]"
   ]
  },
  {
   "cell_type": "code",
   "execution_count": 15,
   "id": "c68b9c69",
   "metadata": {},
   "outputs": [
    {
     "data": {
      "text/plain": [
       "(628, 4096)"
      ]
     },
     "execution_count": 15,
     "metadata": {},
     "output_type": "execute_result"
    }
   ],
   "source": [
    "X = np.concatenate([faces_drawn_from_seeds, real_faces])\n",
    "X.shape"
   ]
  },
  {
   "cell_type": "code",
   "execution_count": 16,
   "id": "31f299cd",
   "metadata": {},
   "outputs": [],
   "source": [
    "Y = np.zeros(\n",
    "N * 2)\n",
    "\n",
    "Y[N:] = 1"
   ]
  },
  {
   "cell_type": "code",
   "execution_count": 17,
   "id": "16b0efb5",
   "metadata": {},
   "outputs": [
    {
     "data": {
      "text/plain": [
       "array([0., 0., 0., 0., 0., 0., 0., 0., 0., 0., 0., 0., 0., 0., 0., 0., 0.,\n",
       "       0., 0., 0., 0., 0., 0., 0., 0., 0., 0., 0., 0., 0., 0., 0., 0., 0.,\n",
       "       0., 0., 0., 0., 0., 0., 0., 0., 0., 0., 0., 0., 0., 0., 0., 0., 0.,\n",
       "       0., 0., 0., 0., 0., 0., 0., 0., 0., 0., 0., 0., 0., 0., 0., 0., 0.,\n",
       "       0., 0., 0., 0., 0., 0., 0., 0., 0., 0., 0., 0., 0., 0., 0., 0., 0.,\n",
       "       0., 0., 0., 0., 0., 0., 0., 0., 0., 0., 0., 0., 0., 0., 0., 0., 0.,\n",
       "       0., 0., 0., 0., 0., 0., 0., 0., 0., 0., 0., 0., 0., 0., 0., 0., 0.,\n",
       "       0., 0., 0., 0., 0., 0., 0., 0., 0., 0., 0., 0., 0., 0., 0., 0., 0.,\n",
       "       0., 0., 0., 0., 0., 0., 0., 0., 0., 0., 0., 0., 0., 0., 0., 0., 0.,\n",
       "       0., 0., 0., 0., 0., 0., 0., 0., 0., 0., 0., 0., 0., 0., 0., 0., 0.,\n",
       "       0., 0., 0., 0., 0., 0., 0., 0., 0., 0., 0., 0., 0., 0., 0., 0., 0.,\n",
       "       0., 0., 0., 0., 0., 0., 0., 0., 0., 0., 0., 0., 0., 0., 0., 0., 0.,\n",
       "       0., 0., 0., 0., 0., 0., 0., 0., 0., 0., 0., 0., 0., 0., 0., 0., 0.,\n",
       "       0., 0., 0., 0., 0., 0., 0., 0., 0., 0., 0., 0., 0., 0., 0., 0., 0.,\n",
       "       0., 0., 0., 0., 0., 0., 0., 0., 0., 0., 0., 0., 0., 0., 0., 0., 0.,\n",
       "       0., 0., 0., 0., 0., 0., 0., 0., 0., 0., 0., 0., 0., 0., 0., 0., 0.,\n",
       "       0., 0., 0., 0., 0., 0., 0., 0., 0., 0., 0., 0., 0., 0., 0., 0., 0.,\n",
       "       0., 0., 0., 0., 0., 0., 0., 0., 0., 0., 0., 0., 0., 0., 0., 0., 0.,\n",
       "       0., 0., 0., 0., 0., 0., 0., 0., 1., 1., 1., 1., 1., 1., 1., 1., 1.,\n",
       "       1., 1., 1., 1., 1., 1., 1., 1., 1., 1., 1., 1., 1., 1., 1., 1., 1.,\n",
       "       1., 1., 1., 1., 1., 1., 1., 1., 1., 1., 1., 1., 1., 1., 1., 1., 1.,\n",
       "       1., 1., 1., 1., 1., 1., 1., 1., 1., 1., 1., 1., 1., 1., 1., 1., 1.,\n",
       "       1., 1., 1., 1., 1., 1., 1., 1., 1., 1., 1., 1., 1., 1., 1., 1., 1.,\n",
       "       1., 1., 1., 1., 1., 1., 1., 1., 1., 1., 1., 1., 1., 1., 1., 1., 1.,\n",
       "       1., 1., 1., 1., 1., 1., 1., 1., 1., 1., 1., 1., 1., 1., 1., 1., 1.,\n",
       "       1., 1., 1., 1., 1., 1., 1., 1., 1., 1., 1., 1., 1., 1., 1., 1., 1.,\n",
       "       1., 1., 1., 1., 1., 1., 1., 1., 1., 1., 1., 1., 1., 1., 1., 1., 1.,\n",
       "       1., 1., 1., 1., 1., 1., 1., 1., 1., 1., 1., 1., 1., 1., 1., 1., 1.,\n",
       "       1., 1., 1., 1., 1., 1., 1., 1., 1., 1., 1., 1., 1., 1., 1., 1., 1.,\n",
       "       1., 1., 1., 1., 1., 1., 1., 1., 1., 1., 1., 1., 1., 1., 1., 1., 1.,\n",
       "       1., 1., 1., 1., 1., 1., 1., 1., 1., 1., 1., 1., 1., 1., 1., 1., 1.,\n",
       "       1., 1., 1., 1., 1., 1., 1., 1., 1., 1., 1., 1., 1., 1., 1., 1., 1.,\n",
       "       1., 1., 1., 1., 1., 1., 1., 1., 1., 1., 1., 1., 1., 1., 1., 1., 1.,\n",
       "       1., 1., 1., 1., 1., 1., 1., 1., 1., 1., 1., 1., 1., 1., 1., 1., 1.,\n",
       "       1., 1., 1., 1., 1., 1., 1., 1., 1., 1., 1., 1., 1., 1., 1., 1., 1.,\n",
       "       1., 1., 1., 1., 1., 1., 1., 1., 1., 1., 1., 1., 1., 1., 1., 1., 1.,\n",
       "       1., 1., 1., 1., 1., 1., 1., 1., 1., 1., 1., 1., 1., 1., 1., 1.])"
      ]
     },
     "execution_count": 17,
     "metadata": {},
     "output_type": "execute_result"
    }
   ],
   "source": [
    "Y"
   ]
  },
  {
   "cell_type": "code",
   "execution_count": 18,
   "id": "2fe93e1d",
   "metadata": {},
   "outputs": [
    {
     "name": "stdout",
     "output_type": "stream",
     "text": [
      "1.0\n"
     ]
    },
    {
     "data": {
      "image/png": "[encoded data removed]",
      "text/plain": [
       "<Figure size 432x288 with 1 Axes>"
      ]
     },
     "metadata": {
      "needs_background": "light"
     },
     "output_type": "display_data"
    }
   ],
   "source": [
    "x, y = X[ind:=np.random.randint(0, len(X))],   Y[ind]\n",
    "print(y)\n",
    "s(x)"
   ]
  },
  {
   "cell_type": "code",
   "execution_count": 19,
   "id": "a3f40534",
   "metadata": {},
   "outputs": [
    {
     "name": "stdout",
     "output_type": "stream",
     "text": [
      "20/20 [==============================] - 1s 4ms/step - loss: 0.6988 - accuracy: 0.5111\n",
      "20/20 [==============================] - 0s 2ms/step - loss: 0.6817 - accuracy: 0.4904\n"
     ]
    },
    {
     "data": {
      "text/plain": [
       "[0.6817229986190796, 0.4904458522796631]"
      ]
     },
     "execution_count": 19,
     "metadata": {},
     "output_type": "execute_result"
    }
   ],
   "source": [
    "policeman.fit(X, Y, epochs=1, shuffle=1)\n",
    "policeman.evaluate(X, Y)"
   ]
  },
  {
   "cell_type": "markdown",
   "id": "45f79ef5",
   "metadata": {},
   "source": [
    "# Теперь запускаем срелу"
   ]
  },
  {
   "cell_type": "code",
   "execution_count": 20,
   "id": "03b6360a",
   "metadata": {},
   "outputs": [],
   "source": [
    "N = 314\n",
    "seeds = np.random.random(size=(N, 100)).astype(\"float32\").reshape(-1, 100)\n",
    "\n",
    "ones = np.ones(len(seeds), dtype=\"float32\").reshape(-1, 1)\n"
   ]
  },
  {
   "cell_type": "code",
   "execution_count": 21,
   "id": "64d7a8a4",
   "metadata": {},
   "outputs": [
    {
     "data": {
      "text/plain": [
       "(314, 1)"
      ]
     },
     "execution_count": 21,
     "metadata": {},
     "output_type": "execute_result"
    }
   ],
   "source": [
    "ones.shape"
   ]
  },
  {
   "cell_type": "code",
   "execution_count": 22,
   "id": "3e04119c",
   "metadata": {},
   "outputs": [
    {
     "data": {
      "text/plain": [
       "array([0.44181612, 0.7127398 , 0.26054418, 0.01984465, 0.01397809,\n",
       "       0.63411796, 0.6267745 , 0.31213796, 0.8985819 , 0.41607022,\n",
       "       0.55907714, 0.6446441 , 0.99633074, 0.88713837, 0.36050534,\n",
       "       0.90859836, 0.8767443 , 0.18645954, 0.34626365, 0.3282072 ,\n",
       "       0.82533807, 0.61136466, 0.6492427 , 0.03125165, 0.5613146 ,\n",
       "       0.84077036, 0.9692536 , 0.01830305, 0.06029749, 0.22557442,\n",
       "       0.4843474 , 0.9769876 , 0.18643458, 0.9992788 , 0.4609476 ,\n",
       "       0.42597744, 0.8026319 , 0.85791016, 0.63831645, 0.75006455,\n",
       "       0.2673411 , 0.79818755, 0.3198133 , 0.20773482, 0.01913967,\n",
       "       0.11891915, 0.51778436, 0.84774923, 0.43001696, 0.403268  ,\n",
       "       0.04103134, 0.63478804, 0.5311129 , 0.7315936 , 0.46733698,\n",
       "       0.8003342 , 0.15909141, 0.02179836, 0.3353422 , 0.52264315,\n",
       "       0.7585421 , 0.16632521, 0.8350554 , 0.43534553, 0.01785964,\n",
       "       0.73188066, 0.8958743 , 0.5618813 , 0.91806316, 0.12432701,\n",
       "       0.42339048, 0.12592687, 0.7828393 , 0.83488077, 0.1668173 ,\n",
       "       0.4313796 , 0.91487163, 0.04785015, 0.79934055, 0.14653565,\n",
       "       0.08394569, 0.9188489 , 0.6840071 , 0.0089187 , 0.93908477,\n",
       "       0.24050431, 0.3987369 , 0.03417603, 0.7361032 , 0.4039928 ,\n",
       "       0.999661  , 0.73205847, 0.12617688, 0.13146141, 0.8605909 ,\n",
       "       0.36417446, 0.8776359 , 0.2364847 , 0.6450026 , 0.45073858],\n",
       "      dtype=float32)"
      ]
     },
     "execution_count": 22,
     "metadata": {},
     "output_type": "execute_result"
    }
   ],
   "source": [
    "\n",
    "seeds[0]"
   ]
  },
  {
   "cell_type": "code",
   "execution_count": 23,
   "id": "cf7875c0",
   "metadata": {},
   "outputs": [
    {
     "name": "stdout",
     "output_type": "stream",
     "text": [
      "10/10 [==============================] - 1s 5ms/step - loss: 0.2422\n"
     ]
    },
    {
     "data": {
      "text/plain": [
       "<keras.callbacks.History at 0x7fa1483ece80>"
      ]
     },
     "execution_count": 23,
     "metadata": {},
     "output_type": "execute_result"
    }
   ],
   "source": [
    "env_model.fit(seeds, ones, shuffle=1, epochs=1)"
   ]
  },
  {
   "cell_type": "markdown",
   "id": "98cfbf19",
   "metadata": {},
   "source": [
    "# В цикле"
   ]
  },
  {
   "cell_type": "code",
   "execution_count": 24,
   "id": "d02e3de6",
   "metadata": {},
   "outputs": [
    {
     "data": {
      "text/plain": [
       "array([0.5040249 , 0.5336215 , 0.50518185, ..., 0.42291284, 0.6116436 ,\n",
       "       0.48999828], dtype=float32)"
      ]
     },
     "execution_count": 24,
     "metadata": {},
     "output_type": "execute_result"
    }
   ],
   "source": [
    "faces_drawn_from_seeds[0]"
   ]
  },
  {
   "cell_type": "code",
   "execution_count": 25,
   "id": "c2f5bc68",
   "metadata": {},
   "outputs": [],
   "source": [
    "from importlib import reload\n",
    "\n",
    "from videorecorder import get_new_cv2_imshow\n",
    "from videorecorder import save_to_video, execute_at_exit\n",
    "\n",
    "reload(sys.modules['videorecorder'])\n",
    "reload(sys.modules['cv2'])\n",
    "my_imshow = get_new_cv2_imshow(cv2.imshow, video_frame_rate=1,\n",
    "                                redraw_only_every_nth_frame=1,\n",
    "                                #last_frame_meditation_time_sec=3,\n",
    "                                #fading_out_time_sec=5)\n",
    "                               )"
   ]
  },
  {
   "cell_type": "code",
   "execution_count": 26,
   "id": "83f6b1da",
   "metadata": {},
   "outputs": [
    {
     "name": "stderr",
     "output_type": "stream",
     "text": [
      "OpenCV: FFMPEG: tag 0x44495658/'XVID' is not supported with codec id 12 and format 'mp4 / MP4 (MPEG-4 Part 14)'\n",
      "OpenCV: FFMPEG: fallback to use tag 0x7634706d/'mp4v'\n"
     ]
    },
    {
     "name": "stdout",
     "output_type": "stream",
     "text": [
      "Saving video for you! See you soon!\n"
     ]
    }
   ],
   "source": [
    "\n",
    "cv2.destroyAllWindows()\n",
    "from importlib import reload\n",
    "\n",
    "reload(sys.modules['videorecorder'])\n",
    "reload(sys.modules['cv2'])\n",
    "#from videorecorder import save_to_video, execute_at_exit\n",
    "from artiom_convenience_functions import *\n",
    "\n",
    "from videorecorder import get_new_cv2_imshow\n",
    "my_imshow = get_new_cv2_imshow(cv2.imshow, video_frame_rate=1,\n",
    "                                redraw_only_every_nth_frame=1,\n",
    "                                #last_frame_meditation_time_sec=3,\n",
    "                                #fading_out_time_sec=5)\n",
    "                               )\n",
    "\n",
    "\n",
    "\n",
    "\n",
    "key = None\n",
    "while key not in (27,):\n",
    "    N = 409\n",
    "    seeds = np.random.random(size=(N, 100)).astype(\"float32\").reshape(-1, 100)\n",
    "    faces_drawn_from_seeds = face_gen.predict(seeds, verbose=0)\n",
    "\n",
    "    \n",
    "    \n",
    "    best_ind = np.argmax(policeman.predict(faces_drawn_from_seeds, verbose=0).reshape(-1))\n",
    "    my_imshow(\"result\", uint8_normalized(cv2.cvtColor(resize(faces_drawn_from_seeds[best_ind].reshape(N_DIM, N_DIM), width=500,\n",
    "                               interpolation=cv2.INTER_NEAREST), cv2.COLOR_GRAY2RGB)))\n",
    "#     save_to_video((faces_drawn_from_seeds[best_ind].reshape(N_DIM, N_DIM), width=500,\n",
    "#                                interpolation=cv2.INTER_NEAREST))\n",
    "    key = cv2.waitKey(1)\n",
    "\n",
    "    indices = np.random.randint(0, len(faces), size=N)\n",
    "    real_faces = faces[indices]\n",
    "    X = np.concatenate([faces_drawn_from_seeds, real_faces])\n",
    "    Y = np.zeros(\n",
    "    N * 2)\n",
    "\n",
    "    Y[N:] = 1\n",
    "\n",
    "\n",
    "    policeman.fit(X, Y, epochs=59, shuffle=1, verbose=0)\n",
    "    policeman.evaluate(X, Y, verbose=0)\n",
    "\n",
    "\n",
    "\n",
    "\n",
    "\n",
    "\n",
    "    N = 490\n",
    "    seeds = np.random.random(size=(N, 100)).astype(\"float32\").reshape(-1, 100)\n",
    "\n",
    "    ones = np.ones(len(seeds)).reshape(-1, 1)\n",
    "    env_model.fit(seeds, ones, shuffle=1, epochs=1, verbose=0)\n",
    "    \n",
    "execute_at_exit()"
   ]
  },
  {
   "cell_type": "code",
   "execution_count": 27,
   "id": "ff88e185",
   "metadata": {},
   "outputs": [
    {
     "data": {
      "text/plain": [
       "array([[[0.46611425, 0.46611425, 0.46611425],\n",
       "        [0.46611425, 0.46611425, 0.46611425],\n",
       "        [0.46611425, 0.46611425, 0.46611425],\n",
       "        ...,\n",
       "        [0.4552625 , 0.4552625 , 0.4552625 ],\n",
       "        [0.4552625 , 0.4552625 , 0.4552625 ],\n",
       "        [0.4552625 , 0.4552625 , 0.4552625 ]],\n",
       "\n",
       "       [[0.46611425, 0.46611425, 0.46611425],\n",
       "        [0.46611425, 0.46611425, 0.46611425],\n",
       "        [0.46611425, 0.46611425, 0.46611425],\n",
       "        ...,\n",
       "        [0.4552625 , 0.4552625 , 0.4552625 ],\n",
       "        [0.4552625 , 0.4552625 , 0.4552625 ],\n",
       "        [0.4552625 , 0.4552625 , 0.4552625 ]],\n",
       "\n",
       "       [[0.46611425, 0.46611425, 0.46611425],\n",
       "        [0.46611425, 0.46611425, 0.46611425],\n",
       "        [0.46611425, 0.46611425, 0.46611425],\n",
       "        ...,\n",
       "        [0.4552625 , 0.4552625 , 0.4552625 ],\n",
       "        [0.4552625 , 0.4552625 , 0.4552625 ],\n",
       "        [0.4552625 , 0.4552625 , 0.4552625 ]],\n",
       "\n",
       "       ...,\n",
       "\n",
       "       [[0.47523788, 0.47523788, 0.47523788],\n",
       "        [0.47523788, 0.47523788, 0.47523788],\n",
       "        [0.47523788, 0.47523788, 0.47523788],\n",
       "        ...,\n",
       "        [0.38903847, 0.38903847, 0.38903847],\n",
       "        [0.38903847, 0.38903847, 0.38903847],\n",
       "        [0.38903847, 0.38903847, 0.38903847]],\n",
       "\n",
       "       [[0.47523788, 0.47523788, 0.47523788],\n",
       "        [0.47523788, 0.47523788, 0.47523788],\n",
       "        [0.47523788, 0.47523788, 0.47523788],\n",
       "        ...,\n",
       "        [0.38903847, 0.38903847, 0.38903847],\n",
       "        [0.38903847, 0.38903847, 0.38903847],\n",
       "        [0.38903847, 0.38903847, 0.38903847]],\n",
       "\n",
       "       [[0.47523788, 0.47523788, 0.47523788],\n",
       "        [0.47523788, 0.47523788, 0.47523788],\n",
       "        [0.47523788, 0.47523788, 0.47523788],\n",
       "        ...,\n",
       "        [0.38903847, 0.38903847, 0.38903847],\n",
       "        [0.38903847, 0.38903847, 0.38903847],\n",
       "        [0.38903847, 0.38903847, 0.38903847]]], dtype=float32)"
      ]
     },
     "execution_count": 27,
     "metadata": {},
     "output_type": "execute_result"
    }
   ],
   "source": [
    "cv2.cvtColor(resize(faces_drawn_from_seeds[best_ind].reshape(N_DIM, N_DIM), width=500,\n",
    "                               interpolation=cv2.INTER_NEAREST), cv2.COLOR_GRAY2RGB)"
   ]
  },
  {
   "cell_type": "code",
   "execution_count": null,
   "id": "f7490b75",
   "metadata": {},
   "outputs": [],
   "source": []
  },
  {
   "cell_type": "code",
   "execution_count": null,
   "id": "18f4b894",
   "metadata": {},
   "outputs": [],
   "source": []
  },
  {
   "cell_type": "code",
   "execution_count": null,
   "id": "9cf3765b",
   "metadata": {},
   "outputs": [],
   "source": []
  },
  {
   "cell_type": "code",
   "execution_count": null,
   "id": "78808fdb",
   "metadata": {},
   "outputs": [],
   "source": []
  }
 ],
 "metadata": {
  "kernelspec": {
   "display_name": "Python 3 (ipykernel)",
   "language": "python",
   "name": "python3"
  },
  "language_info": {
   "codemirror_mode": {
    "name": "ipython",
    "version": 3
   },
   "file_extension": ".py",
   "mimetype": "text/x-python",
   "name": "python",
   "nbconvert_exporter": "python",
   "pygments_lexer": "ipython3",
   "version": "3.10.4"
  }
 },
 "nbformat": 4,
 "nbformat_minor": 5
}
