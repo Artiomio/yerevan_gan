{
 "cells": [
  {
   "cell_type": "code",
   "execution_count": 1,
   "id": "78d12d36",
   "metadata": {},
   "outputs": [],
   "source": [
    "%matplotlib inline\n",
    "from IPython.display import clear_output\n",
    "\n",
    "import gc\n",
    "import os\n",
    "import time\n",
    "import numpy as np\n",
    "import cv2\n",
    "import matplotlib.pyplot as plt\n",
    "from tqdm.notebook import tqdm\n",
    "#from tqdm import tqdm\n",
    "\n",
    "from sklearn.model_selection import train_test_split\n",
    "\n",
    "import keras\n",
    "from keras.models import Sequential\n",
    "from keras.layers import *\n",
    "from keras.layers import Dense, Dropout, Flatten\n",
    "from keras.layers import Conv2D, MaxPooling2D\n",
    "from keras import backend as K\n",
    "\n",
    "from keras import initializers\n",
    "import sys\n",
    "sys.path.append('/home/art/Programming/artlibs')\n",
    "from artiom_convenience_functions import * \n",
    "from videorecorder import save_to_video, execute_at_exit\n",
    "\n"
   ]
  },
  {
   "cell_type": "code",
   "execution_count": 2,
   "id": "f31f5810",
   "metadata": {},
   "outputs": [],
   "source": [
    "def s(img):\n",
    "    plt.imshow(\n",
    "    img.reshape(\n",
    "    N_DIM, N_DIM), cmap='gray')"
   ]
  },
  {
   "cell_type": "code",
   "execution_count": 3,
   "id": "2a93ca54",
   "metadata": {},
   "outputs": [],
   "source": [
    "N_DIM = 28\n",
    "faces = np.fromfile(f\"girls_img_{N_DIM}x{N_DIM}.bin\", dtype=\"uint8\").reshape(-1, N_DIM, N_DIM) / 255"
   ]
  },
  {
   "cell_type": "code",
   "execution_count": 4,
   "id": "0eae103d",
   "metadata": {},
   "outputs": [
    {
     "data": {
      "image/png": "[encoded data removed]",
      "text/plain": [
       "<Figure size 432x288 with 1 Axes>"
      ]
     },
     "metadata": {
      "needs_background": "light"
     },
     "output_type": "display_data"
    }
   ],
   "source": [
    "s(faces[2])"
   ]
  },
  {
   "cell_type": "markdown",
   "id": "d0a4ca05",
   "metadata": {},
   "source": [
    "# Face generator"
   ]
  },
  {
   "cell_type": "code",
   "execution_count": 5,
   "id": "cdf3beda",
   "metadata": {},
   "outputs": [],
   "source": [
    "inputs = keras.Input(shape=(100))\n",
    "x = Dense(100, activation='elu')(inputs)\n",
    "#x = Dropout(0.2)(x)\n",
    "x = Dense(3000, activation='sigmoid')(x)\n",
    "\n",
    "x = Dense(N_DIM ** 2, activation='sigmoid')(x)\n",
    "outputs = Reshape((N_DIM, N_DIM))(x)\n",
    "face_gen = keras.Model(inputs=inputs, outputs=outputs, name=\"face_generator\")\n",
    "\n",
    "face_gen.compile(\n",
    "\n",
    "    optimizer=keras.optimizers.Adam(0.00001),\n",
    "    metrics=[\"accuracy\"],\n",
    ")"
   ]
  },
  {
   "cell_type": "code",
   "execution_count": null,
   "id": "2295ade9",
   "metadata": {},
   "outputs": [],
   "source": []
  },
  {
   "cell_type": "markdown",
   "id": "7335e045",
   "metadata": {},
   "source": [
    "\n",
    "# policeman "
   ]
  },
  {
   "cell_type": "code",
   "execution_count": 6,
   "id": "eae59cb6",
   "metadata": {},
   "outputs": [],
   "source": [
    "shape=(N_DIM, N_DIM)"
   ]
  },
  {
   "cell_type": "code",
   "execution_count": 7,
   "id": "03bf0092",
   "metadata": {},
   "outputs": [],
   "source": [
    "inputs = keras.Input(shape=(N_DIM, N_DIM, 1))\n",
    "\n",
    "x = Conv2D(30, (3, 3))(inputs)\n",
    "x = MaxPool2D((3, 3))(x)\n",
    "\n",
    "x = Conv2D(308, (3, 3))(x)\n",
    "x = MaxPool2D((3, 3))(x)\n",
    "# x = Conv2D(308, (3, 3))(x)\n",
    "# x = MaxPool2D((3, 3))(x)\n",
    "\n",
    "\n",
    "x = Flatten()(x)\n",
    "x = Dense(1300, activation='sigmoid')(x)\n",
    "\n",
    "\n",
    "outputs = Dense(1, activation='sigmoid')(x)\n",
    "policeman = keras.Model(inputs=inputs, outputs=outputs, name=\"policeman\")"
   ]
  },
  {
   "cell_type": "code",
   "execution_count": 8,
   "id": "ee12acf5",
   "metadata": {},
   "outputs": [],
   "source": [
    "\n",
    "policeman.compile(\n",
    "    loss=keras.losses.BinaryCrossentropy(),\n",
    "    optimizer=keras.optimizers.Adam(0.00001),\n",
    "    metrics=[\"accuracy\"],\n",
    ")"
   ]
  },
  {
   "cell_type": "markdown",
   "id": "b8fae1bf",
   "metadata": {},
   "source": [
    "# Среда"
   ]
  },
  {
   "cell_type": "code",
   "execution_count": 9,
   "id": "4fbaf6d2",
   "metadata": {},
   "outputs": [],
   "source": [
    "policeman.trainable = False\n",
    "inputs = keras.Input(shape=(100))\n",
    "x = face_gen(inputs)\n",
    "outputs = policeman(x) \n",
    "env_model = keras.Model(inputs=inputs, outputs=outputs, name=\"face_generator\")"
   ]
  },
  {
   "cell_type": "code",
   "execution_count": 10,
   "id": "a5dbdd81",
   "metadata": {},
   "outputs": [],
   "source": [
    "\n",
    "env_model.compile( loss=\"binary_crossentropy\" \n",
    ")"
   ]
  },
  {
   "cell_type": "code",
   "execution_count": 11,
   "id": "3493360e",
   "metadata": {},
   "outputs": [
    {
     "name": "stdout",
     "output_type": "stream",
     "text": [
      "Model: \"face_generator\"\n",
      "_________________________________________________________________\n",
      " Layer (type)                Output Shape              Param #   \n",
      "=================================================================\n",
      " input_3 (InputLayer)        [(None, 100)]             0         \n",
      "                                                                 \n",
      " face_generator (Functional)  (None, 28, 28)           2665884   \n",
      "                                                                 \n",
      " policeman (Functional)      (None, 1)                 1687969   \n",
      "                                                                 \n",
      "=================================================================\n",
      "Total params: 4,353,853\n",
      "Trainable params: 2,665,884\n",
      "Non-trainable params: 1,687,969\n",
      "_________________________________________________________________\n"
     ]
    }
   ],
   "source": [
    "env_model.summary()"
   ]
  },
  {
   "cell_type": "code",
   "execution_count": 12,
   "id": "45f93b80",
   "metadata": {},
   "outputs": [
    {
     "name": "stdout",
     "output_type": "stream",
     "text": [
      "1/1 [==============================] - 3s 3s/step\n"
     ]
    },
    {
     "data": {
      "image/png": "[encoded data removed]",
      "text/plain": [
       "<Figure size 432x288 with 1 Axes>"
      ]
     },
     "metadata": {
      "needs_background": "light"
     },
     "output_type": "display_data"
    }
   ],
   "source": [
    "s(\n",
    "    face_gen.predict(\n",
    "        np.random.random(size=100).astype(\"float32\").reshape(1, 100)\n",
    "    ).reshape(N_DIM, N_DIM))"
   ]
  },
  {
   "cell_type": "markdown",
   "id": "0da0c8c7",
   "metadata": {},
   "source": [
    "# Учим полицейского"
   ]
  },
  {
   "cell_type": "code",
   "execution_count": null,
   "id": "341e0019",
   "metadata": {},
   "outputs": [],
   "source": []
  },
  {
   "cell_type": "code",
   "execution_count": 13,
   "id": "55146b40",
   "metadata": {},
   "outputs": [],
   "source": [
    "N = 314\n",
    "seeds = np.random.random(size=(N, 100)).astype(\"float32\").reshape(-1, 100)"
   ]
  },
  {
   "cell_type": "code",
   "execution_count": 14,
   "id": "ac0d159d",
   "metadata": {},
   "outputs": [
    {
     "name": "stdout",
     "output_type": "stream",
     "text": [
      "10/10 [==============================] - 0s 1ms/step\n"
     ]
    }
   ],
   "source": [
    "faces_drawn_from_seeds = face_gen.predict(seeds)"
   ]
  },
  {
   "cell_type": "code",
   "execution_count": 15,
   "id": "67d24089",
   "metadata": {},
   "outputs": [],
   "source": [
    "\n",
    "indices = np.random.randint(0, len(faces), size=N)\n",
    "real_faces = faces[indices]"
   ]
  },
  {
   "cell_type": "code",
   "execution_count": 16,
   "id": "c68b9c69",
   "metadata": {},
   "outputs": [
    {
     "data": {
      "text/plain": [
       "(628, 28, 28)"
      ]
     },
     "execution_count": 16,
     "metadata": {},
     "output_type": "execute_result"
    }
   ],
   "source": [
    "X = np.concatenate([faces_drawn_from_seeds, real_faces])\n",
    "X.shape"
   ]
  },
  {
   "cell_type": "code",
   "execution_count": 17,
   "id": "31f299cd",
   "metadata": {},
   "outputs": [],
   "source": [
    "Y = np.zeros(\n",
    "N * 2)\n",
    "\n",
    "Y[N:] = 1"
   ]
  },
  {
   "cell_type": "code",
   "execution_count": 18,
   "id": "16b0efb5",
   "metadata": {},
   "outputs": [
    {
     "data": {
      "text/plain": [
       "array([0., 0., 0., 0., 0., 0., 0., 0., 0., 0., 0., 0., 0., 0., 0., 0., 0.,\n",
       "       0., 0., 0., 0., 0., 0., 0., 0., 0., 0., 0., 0., 0., 0., 0., 0., 0.,\n",
       "       0., 0., 0., 0., 0., 0., 0., 0., 0., 0., 0., 0., 0., 0., 0., 0., 0.,\n",
       "       0., 0., 0., 0., 0., 0., 0., 0., 0., 0., 0., 0., 0., 0., 0., 0., 0.,\n",
       "       0., 0., 0., 0., 0., 0., 0., 0., 0., 0., 0., 0., 0., 0., 0., 0., 0.,\n",
       "       0., 0., 0., 0., 0., 0., 0., 0., 0., 0., 0., 0., 0., 0., 0., 0., 0.,\n",
       "       0., 0., 0., 0., 0., 0., 0., 0., 0., 0., 0., 0., 0., 0., 0., 0., 0.,\n",
       "       0., 0., 0., 0., 0., 0., 0., 0., 0., 0., 0., 0., 0., 0., 0., 0., 0.,\n",
       "       0., 0., 0., 0., 0., 0., 0., 0., 0., 0., 0., 0., 0., 0., 0., 0., 0.,\n",
       "       0., 0., 0., 0., 0., 0., 0., 0., 0., 0., 0., 0., 0., 0., 0., 0., 0.,\n",
       "       0., 0., 0., 0., 0., 0., 0., 0., 0., 0., 0., 0., 0., 0., 0., 0., 0.,\n",
       "       0., 0., 0., 0., 0., 0., 0., 0., 0., 0., 0., 0., 0., 0., 0., 0., 0.,\n",
       "       0., 0., 0., 0., 0., 0., 0., 0., 0., 0., 0., 0., 0., 0., 0., 0., 0.,\n",
       "       0., 0., 0., 0., 0., 0., 0., 0., 0., 0., 0., 0., 0., 0., 0., 0., 0.,\n",
       "       0., 0., 0., 0., 0., 0., 0., 0., 0., 0., 0., 0., 0., 0., 0., 0., 0.,\n",
       "       0., 0., 0., 0., 0., 0., 0., 0., 0., 0., 0., 0., 0., 0., 0., 0., 0.,\n",
       "       0., 0., 0., 0., 0., 0., 0., 0., 0., 0., 0., 0., 0., 0., 0., 0., 0.,\n",
       "       0., 0., 0., 0., 0., 0., 0., 0., 0., 0., 0., 0., 0., 0., 0., 0., 0.,\n",
       "       0., 0., 0., 0., 0., 0., 0., 0., 1., 1., 1., 1., 1., 1., 1., 1., 1.,\n",
       "       1., 1., 1., 1., 1., 1., 1., 1., 1., 1., 1., 1., 1., 1., 1., 1., 1.,\n",
       "       1., 1., 1., 1., 1., 1., 1., 1., 1., 1., 1., 1., 1., 1., 1., 1., 1.,\n",
       "       1., 1., 1., 1., 1., 1., 1., 1., 1., 1., 1., 1., 1., 1., 1., 1., 1.,\n",
       "       1., 1., 1., 1., 1., 1., 1., 1., 1., 1., 1., 1., 1., 1., 1., 1., 1.,\n",
       "       1., 1., 1., 1., 1., 1., 1., 1., 1., 1., 1., 1., 1., 1., 1., 1., 1.,\n",
       "       1., 1., 1., 1., 1., 1., 1., 1., 1., 1., 1., 1., 1., 1., 1., 1., 1.,\n",
       "       1., 1., 1., 1., 1., 1., 1., 1., 1., 1., 1., 1., 1., 1., 1., 1., 1.,\n",
       "       1., 1., 1., 1., 1., 1., 1., 1., 1., 1., 1., 1., 1., 1., 1., 1., 1.,\n",
       "       1., 1., 1., 1., 1., 1., 1., 1., 1., 1., 1., 1., 1., 1., 1., 1., 1.,\n",
       "       1., 1., 1., 1., 1., 1., 1., 1., 1., 1., 1., 1., 1., 1., 1., 1., 1.,\n",
       "       1., 1., 1., 1., 1., 1., 1., 1., 1., 1., 1., 1., 1., 1., 1., 1., 1.,\n",
       "       1., 1., 1., 1., 1., 1., 1., 1., 1., 1., 1., 1., 1., 1., 1., 1., 1.,\n",
       "       1., 1., 1., 1., 1., 1., 1., 1., 1., 1., 1., 1., 1., 1., 1., 1., 1.,\n",
       "       1., 1., 1., 1., 1., 1., 1., 1., 1., 1., 1., 1., 1., 1., 1., 1., 1.,\n",
       "       1., 1., 1., 1., 1., 1., 1., 1., 1., 1., 1., 1., 1., 1., 1., 1., 1.,\n",
       "       1., 1., 1., 1., 1., 1., 1., 1., 1., 1., 1., 1., 1., 1., 1., 1., 1.,\n",
       "       1., 1., 1., 1., 1., 1., 1., 1., 1., 1., 1., 1., 1., 1., 1., 1., 1.,\n",
       "       1., 1., 1., 1., 1., 1., 1., 1., 1., 1., 1., 1., 1., 1., 1., 1.])"
      ]
     },
     "execution_count": 18,
     "metadata": {},
     "output_type": "execute_result"
    }
   ],
   "source": [
    "Y"
   ]
  },
  {
   "cell_type": "code",
   "execution_count": 19,
   "id": "2fe93e1d",
   "metadata": {},
   "outputs": [
    {
     "name": "stdout",
     "output_type": "stream",
     "text": [
      "1.0\n"
     ]
    },
    {
     "data": {
      "image/png": "[encoded data removed]",
      "text/plain": [
       "<Figure size 432x288 with 1 Axes>"
      ]
     },
     "metadata": {
      "needs_background": "light"
     },
     "output_type": "display_data"
    }
   ],
   "source": [
    "x, y = X[ind:=np.random.randint(0, len(X))],   Y[ind]\n",
    "print(y)\n",
    "s(x)"
   ]
  },
  {
   "cell_type": "code",
   "execution_count": 20,
   "id": "a3f40534",
   "metadata": {},
   "outputs": [
    {
     "name": "stdout",
     "output_type": "stream",
     "text": [
      "20/20 [==============================] - 9s 12ms/step - loss: 0.7276 - accuracy: 0.5000\n",
      "20/20 [==============================] - 0s 2ms/step - loss: 0.7083 - accuracy: 0.5000\n"
     ]
    },
    {
     "data": {
      "text/plain": [
       "[0.7082710266113281, 0.5]"
      ]
     },
     "execution_count": 20,
     "metadata": {},
     "output_type": "execute_result"
    }
   ],
   "source": [
    "policeman.fit(X, Y, epochs=1, shuffle=1)\n",
    "policeman.evaluate(X, Y)"
   ]
  },
  {
   "cell_type": "markdown",
   "id": "45f79ef5",
   "metadata": {},
   "source": [
    "# Теперь запускаем срелу"
   ]
  },
  {
   "cell_type": "code",
   "execution_count": 21,
   "id": "03b6360a",
   "metadata": {},
   "outputs": [],
   "source": [
    "N = 314\n",
    "seeds = np.random.random(size=(N, 100)).astype(\"float32\").reshape(-1, 100)\n",
    "\n",
    "ones = np.ones(len(seeds), dtype=\"float32\").reshape(-1, 1)\n"
   ]
  },
  {
   "cell_type": "code",
   "execution_count": 22,
   "id": "64d7a8a4",
   "metadata": {},
   "outputs": [
    {
     "data": {
      "text/plain": [
       "(314, 1)"
      ]
     },
     "execution_count": 22,
     "metadata": {},
     "output_type": "execute_result"
    }
   ],
   "source": [
    "ones.shape"
   ]
  },
  {
   "cell_type": "code",
   "execution_count": 23,
   "id": "3e04119c",
   "metadata": {},
   "outputs": [
    {
     "data": {
      "text/plain": [
       "array([0.20781794, 0.4495932 , 0.9046855 , 0.03283113, 0.5202029 ,\n",
       "       0.60582334, 0.11736754, 0.02668926, 0.9345587 , 0.90917104,\n",
       "       0.09031423, 0.40605232, 0.03847915, 0.02295754, 0.9440601 ,\n",
       "       0.53895634, 0.38794473, 0.7573172 , 0.7269619 , 0.1861127 ,\n",
       "       0.39279112, 0.91439205, 0.07378923, 0.510704  , 0.8957131 ,\n",
       "       0.69533086, 0.06906334, 0.00836008, 0.6831974 , 0.12490164,\n",
       "       0.86189646, 0.0791019 , 0.1500804 , 0.8555702 , 0.74964786,\n",
       "       0.9315219 , 0.22083941, 0.26401058, 0.08615263, 0.5522678 ,\n",
       "       0.46055552, 0.8048523 , 0.14588936, 0.29143438, 0.2908853 ,\n",
       "       0.21272518, 0.06181178, 0.31387743, 0.3330002 , 0.0819077 ,\n",
       "       0.5056015 , 0.37802255, 0.28866217, 0.06582273, 0.5608602 ,\n",
       "       0.30388978, 0.68669367, 0.939297  , 0.09885035, 0.7972791 ,\n",
       "       0.39213824, 0.31499   , 0.17853844, 0.7370993 , 0.9357819 ,\n",
       "       0.816223  , 0.4832076 , 0.2464153 , 0.10527594, 0.44417778,\n",
       "       0.8265796 , 0.40651882, 0.08029031, 0.66272014, 0.30700657,\n",
       "       0.5156584 , 0.99732196, 0.923149  , 0.5617809 , 0.04263023,\n",
       "       0.46286082, 0.18663444, 0.8582212 , 0.16017589, 0.8565768 ,\n",
       "       0.5744535 , 0.6035345 , 0.80682504, 0.60040706, 0.8055622 ,\n",
       "       0.78843504, 0.84165895, 0.40540695, 0.72365546, 0.42758328,\n",
       "       0.8412471 , 0.6189321 , 0.22606613, 0.756293  , 0.4058447 ],\n",
       "      dtype=float32)"
      ]
     },
     "execution_count": 23,
     "metadata": {},
     "output_type": "execute_result"
    }
   ],
   "source": [
    "\n",
    "seeds[0]"
   ]
  },
  {
   "cell_type": "code",
   "execution_count": 24,
   "id": "cf7875c0",
   "metadata": {},
   "outputs": [
    {
     "name": "stdout",
     "output_type": "stream",
     "text": [
      "10/10 [==============================] - 1s 11ms/step - loss: 0.5157\n"
     ]
    },
    {
     "data": {
      "text/plain": [
       "<keras.callbacks.History at 0x7fbf7af549d0>"
      ]
     },
     "execution_count": 24,
     "metadata": {},
     "output_type": "execute_result"
    }
   ],
   "source": [
    "env_model.fit(seeds, ones, shuffle=1, epochs=1)"
   ]
  },
  {
   "cell_type": "markdown",
   "id": "98cfbf19",
   "metadata": {},
   "source": [
    "# В цикле"
   ]
  },
  {
   "cell_type": "code",
   "execution_count": 25,
   "id": "d02e3de6",
   "metadata": {},
   "outputs": [
    {
     "data": {
      "text/plain": [
       "array([[0.2813103 , 0.3463715 , 0.5271747 , 0.59047574, 0.541536  ,\n",
       "        0.5599217 , 0.6092508 , 0.4913835 , 0.5329217 , 0.64477104,\n",
       "        0.19096735, 0.4527261 , 0.50818986, 0.5035272 , 0.3700369 ,\n",
       "        0.41358146, 0.76035064, 0.31965685, 0.6542788 , 0.48613006,\n",
       "        0.38711232, 0.39069042, 0.32971862, 0.31839955, 0.49225807,\n",
       "        0.59572405, 0.49530497, 0.45421496],\n",
       "       [0.42056343, 0.3689726 , 0.2232303 , 0.40831548, 0.2449941 ,\n",
       "        0.2758025 , 0.55535686, 0.3356985 , 0.48886746, 0.5073411 ,\n",
       "        0.75469244, 0.46649602, 0.6149009 , 0.66367954, 0.56134754,\n",
       "        0.31301042, 0.29213074, 0.59262794, 0.5330261 , 0.3822613 ,\n",
       "        0.5648321 , 0.7051329 , 0.7499044 , 0.7391959 , 0.5903258 ,\n",
       "        0.48138583, 0.5013331 , 0.40610936],\n",
       "       [0.30945185, 0.44761425, 0.551336  , 0.48932317, 0.41100127,\n",
       "        0.34995818, 0.5456516 , 0.48695612, 0.39273012, 0.3273631 ,\n",
       "        0.41570878, 0.32153794, 0.57869136, 0.407251  , 0.6773635 ,\n",
       "        0.31213245, 0.6040175 , 0.6207977 , 0.4546042 , 0.48848423,\n",
       "        0.3554944 , 0.70982516, 0.7260904 , 0.3332885 , 0.5470077 ,\n",
       "        0.42017335, 0.69639444, 0.65754306],\n",
       "       [0.6458206 , 0.5748648 , 0.5098896 , 0.73851246, 0.47826698,\n",
       "        0.68875784, 0.35239494, 0.67904854, 0.72264546, 0.5401804 ,\n",
       "        0.54045373, 0.48806065, 0.62514406, 0.5280503 , 0.23662166,\n",
       "        0.4226354 , 0.47950542, 0.8179604 , 0.43828005, 0.6381603 ,\n",
       "        0.45294306, 0.47659165, 0.42584023, 0.3980873 , 0.7235129 ,\n",
       "        0.28568703, 0.68837565, 0.5406232 ],\n",
       "       [0.28424808, 0.5559902 , 0.4925729 , 0.26153648, 0.5886961 ,\n",
       "        0.53165644, 0.25916773, 0.48776966, 0.30760404, 0.4487211 ,\n",
       "        0.5118907 , 0.3438876 , 0.3270248 , 0.29551098, 0.60519093,\n",
       "        0.54092485, 0.7376979 , 0.7925777 , 0.77865756, 0.70367306,\n",
       "        0.6504948 , 0.5669211 , 0.6620592 , 0.38020003, 0.6299731 ,\n",
       "        0.42454052, 0.38673815, 0.64753544],\n",
       "       [0.55137986, 0.5485483 , 0.53581804, 0.5542999 , 0.43186313,\n",
       "        0.44735453, 0.2678519 , 0.5719797 , 0.25895375, 0.2529635 ,\n",
       "        0.7855748 , 0.7544492 , 0.8046282 , 0.75849307, 0.60513216,\n",
       "        0.6305542 , 0.5748809 , 0.48810115, 0.40716946, 0.598112  ,\n",
       "        0.6816169 , 0.4278716 , 0.6817099 , 0.4238954 , 0.3500465 ,\n",
       "        0.65477467, 0.6541693 , 0.74560326],\n",
       "       [0.58510965, 0.3781247 , 0.6447732 , 0.38380915, 0.23582037,\n",
       "        0.3004417 , 0.53120553, 0.51406884, 0.46364498, 0.65889883,\n",
       "        0.38419664, 0.60810965, 0.23434874, 0.29250923, 0.5411571 ,\n",
       "        0.35743618, 0.6673023 , 0.47917742, 0.462434  , 0.654457  ,\n",
       "        0.41747317, 0.5634699 , 0.7386844 , 0.7839005 , 0.4296413 ,\n",
       "        0.51227593, 0.49580464, 0.51393193],\n",
       "       [0.7675936 , 0.46409026, 0.41811684, 0.64630294, 0.26995683,\n",
       "        0.47063565, 0.6004195 , 0.41269317, 0.34833646, 0.7290432 ,\n",
       "        0.7056371 , 0.4971441 , 0.59469396, 0.56846946, 0.5820836 ,\n",
       "        0.5806376 , 0.41217512, 0.77440435, 0.5286914 , 0.5459477 ,\n",
       "        0.8098834 , 0.5741466 , 0.29283223, 0.6340625 , 0.83205956,\n",
       "        0.5162669 , 0.47483748, 0.6082222 ],\n",
       "       [0.1608172 , 0.4219693 , 0.56868786, 0.48493683, 0.6788314 ,\n",
       "        0.6124095 , 0.7178195 , 0.16137265, 0.7125486 , 0.49957597,\n",
       "        0.390379  , 0.44223723, 0.56318563, 0.7756971 , 0.34504232,\n",
       "        0.54967546, 0.62870175, 0.7500068 , 0.5016084 , 0.70682764,\n",
       "        0.7508399 , 0.39413905, 0.59917724, 0.73150665, 0.5189013 ,\n",
       "        0.42328632, 0.30086735, 0.7495591 ],\n",
       "       [0.5545249 , 0.57917607, 0.36200678, 0.46718898, 0.7462128 ,\n",
       "        0.21266763, 0.32734603, 0.43957457, 0.40431863, 0.50800496,\n",
       "        0.3981285 , 0.46866465, 0.592555  , 0.33445674, 0.75095904,\n",
       "        0.26391473, 0.4152664 , 0.7705031 , 0.28919634, 0.5356916 ,\n",
       "        0.79934007, 0.5606444 , 0.66555554, 0.68625855, 0.40612292,\n",
       "        0.6113602 , 0.54875976, 0.41990116],\n",
       "       [0.4762018 , 0.26893744, 0.26879328, 0.5155453 , 0.34601495,\n",
       "        0.27028283, 0.29850364, 0.59246135, 0.49503964, 0.4388111 ,\n",
       "        0.47065106, 0.7621026 , 0.46431538, 0.30355075, 0.39093664,\n",
       "        0.28447306, 0.49229378, 0.34116408, 0.4589196 , 0.18469827,\n",
       "        0.5971299 , 0.669725  , 0.25202918, 0.59613883, 0.23989116,\n",
       "        0.46635067, 0.528927  , 0.69600147],\n",
       "       [0.5722071 , 0.35693312, 0.6154062 , 0.45442238, 0.5386051 ,\n",
       "        0.46004218, 0.4899009 , 0.32141155, 0.4159679 , 0.48915413,\n",
       "        0.5761411 , 0.32048526, 0.3983746 , 0.31212652, 0.67389864,\n",
       "        0.27146816, 0.6149915 , 0.74189293, 0.5260684 , 0.8177725 ,\n",
       "        0.46913958, 0.3734569 , 0.6870914 , 0.67149746, 0.73651314,\n",
       "        0.50673145, 0.2904834 , 0.49731666],\n",
       "       [0.4808984 , 0.6538259 , 0.4735252 , 0.6364637 , 0.27040145,\n",
       "        0.36080134, 0.51764035, 0.595019  , 0.6384421 , 0.40556142,\n",
       "        0.31976277, 0.59599835, 0.18976082, 0.44363114, 0.53277105,\n",
       "        0.48036212, 0.61762923, 0.6751751 , 0.40830043, 0.4760837 ,\n",
       "        0.5795725 , 0.46788797, 0.2646429 , 0.63657165, 0.33431745,\n",
       "        0.33179227, 0.26137143, 0.51715636],\n",
       "       [0.35134697, 0.5781412 , 0.6239677 , 0.6341312 , 0.3437393 ,\n",
       "        0.2785448 , 0.83934915, 0.5973044 , 0.54589427, 0.3583779 ,\n",
       "        0.8269654 , 0.43515906, 0.30122846, 0.43103105, 0.5938931 ,\n",
       "        0.40217814, 0.6991274 , 0.70450187, 0.5377451 , 0.81551087,\n",
       "        0.29179266, 0.49586266, 0.5847941 , 0.6123741 , 0.6047959 ,\n",
       "        0.19358438, 0.43630943, 0.67469347],\n",
       "       [0.85308135, 0.53980947, 0.7270399 , 0.5075209 , 0.45665708,\n",
       "        0.31799042, 0.36710697, 0.61123145, 0.7161903 , 0.43672544,\n",
       "        0.55235547, 0.60452974, 0.5141509 , 0.42127407, 0.48412773,\n",
       "        0.4357779 , 0.61042494, 0.58639336, 0.5532035 , 0.6364267 ,\n",
       "        0.4296678 , 0.71706516, 0.44234642, 0.6387331 , 0.764295  ,\n",
       "        0.56105924, 0.43870577, 0.39583895],\n",
       "       [0.30405354, 0.3211471 , 0.49939445, 0.6460352 , 0.59167004,\n",
       "        0.6351238 , 0.48929247, 0.31596947, 0.50384516, 0.3894821 ,\n",
       "        0.4325979 , 0.57547235, 0.4861816 , 0.35104623, 0.46278614,\n",
       "        0.61149585, 0.35245934, 0.58311313, 0.8165145 , 0.6094412 ,\n",
       "        0.45946658, 0.5053834 , 0.7165281 , 0.6223891 , 0.5483663 ,\n",
       "        0.5785619 , 0.6997642 , 0.6381486 ],\n",
       "       [0.57385993, 0.5376244 , 0.70317066, 0.496082  , 0.58693516,\n",
       "        0.52743804, 0.68228304, 0.668498  , 0.784644  , 0.5249449 ,\n",
       "        0.26867104, 0.59757715, 0.63094735, 0.51351357, 0.5182947 ,\n",
       "        0.69910246, 0.43353313, 0.55923516, 0.40243417, 0.7327451 ,\n",
       "        0.48907006, 0.25649443, 0.76397526, 0.51805335, 0.5959767 ,\n",
       "        0.49732903, 0.3964187 , 0.51260215],\n",
       "       [0.41083378, 0.52056044, 0.50423056, 0.71619576, 0.58116597,\n",
       "        0.3914401 , 0.42699975, 0.52553344, 0.388957  , 0.6658174 ,\n",
       "        0.4789058 , 0.64467484, 0.6176797 , 0.484091  , 0.3414984 ,\n",
       "        0.8373372 , 0.44630834, 0.5296016 , 0.3041767 , 0.51386976,\n",
       "        0.3805877 , 0.30241737, 0.4218001 , 0.21817315, 0.49603355,\n",
       "        0.36801082, 0.29029274, 0.5076946 ],\n",
       "       [0.38127694, 0.4690373 , 0.50531936, 0.6051044 , 0.43355882,\n",
       "        0.5342108 , 0.417997  , 0.76672345, 0.7673355 , 0.53487396,\n",
       "        0.75337166, 0.581117  , 0.7795939 , 0.7200348 , 0.40672654,\n",
       "        0.645856  , 0.82814837, 0.57502294, 0.46895903, 0.62647885,\n",
       "        0.47753865, 0.54516536, 0.68835187, 0.6157837 , 0.548822  ,\n",
       "        0.328538  , 0.5176952 , 0.7552378 ],\n",
       "       [0.6084562 , 0.5667687 , 0.5487341 , 0.4612081 , 0.6094405 ,\n",
       "        0.23044953, 0.56420624, 0.47318208, 0.5203835 , 0.36052707,\n",
       "        0.5496869 , 0.25579065, 0.40674564, 0.6495712 , 0.39384615,\n",
       "        0.54783577, 0.42028415, 0.64441746, 0.5068006 , 0.5672789 ,\n",
       "        0.4021713 , 0.50254726, 0.5335487 , 0.36067134, 0.48695624,\n",
       "        0.4586081 , 0.8887686 , 0.3764745 ],\n",
       "       [0.2409212 , 0.44183022, 0.5929548 , 0.41038695, 0.26835868,\n",
       "        0.32371327, 0.22695139, 0.57782227, 0.2936917 , 0.52572906,\n",
       "        0.44058514, 0.5423479 , 0.523782  , 0.47795308, 0.49330035,\n",
       "        0.60886884, 0.568829  , 0.5108458 , 0.6464058 , 0.41956037,\n",
       "        0.5895993 , 0.55755377, 0.37854955, 0.54903704, 0.82077175,\n",
       "        0.7520116 , 0.4730606 , 0.35016638],\n",
       "       [0.7412566 , 0.4881584 , 0.7499467 , 0.32545954, 0.5234831 ,\n",
       "        0.494752  , 0.3595031 , 0.42033347, 0.5661661 , 0.5215926 ,\n",
       "        0.607351  , 0.7577285 , 0.60271674, 0.35317189, 0.41360742,\n",
       "        0.43843737, 0.5648741 , 0.38066113, 0.48836207, 0.49170372,\n",
       "        0.16004182, 0.77205837, 0.5121067 , 0.4002877 , 0.46452227,\n",
       "        0.41559637, 0.39565986, 0.67704076],\n",
       "       [0.6099437 , 0.2642865 , 0.6137371 , 0.47243816, 0.30373743,\n",
       "        0.3986524 , 0.33713934, 0.512883  , 0.5098723 , 0.4962203 ,\n",
       "        0.59930205, 0.60882646, 0.4269941 , 0.7042841 , 0.41470233,\n",
       "        0.6537638 , 0.7568088 , 0.3588957 , 0.86410993, 0.31434938,\n",
       "        0.45470938, 0.47708368, 0.7266391 , 0.30670074, 0.73366046,\n",
       "        0.59944475, 0.53095067, 0.5774878 ],\n",
       "       [0.3205427 , 0.2859677 , 0.61177015, 0.6139144 , 0.7064056 ,\n",
       "        0.84154034, 0.58569896, 0.57652617, 0.49018377, 0.82545567,\n",
       "        0.4292925 , 0.50049895, 0.67252237, 0.47006768, 0.35736442,\n",
       "        0.55888546, 0.3618915 , 0.5181363 , 0.3365742 , 0.4739543 ,\n",
       "        0.7306554 , 0.45547685, 0.627168  , 0.32657105, 0.5670159 ,\n",
       "        0.45464167, 0.16377896, 0.66373134],\n",
       "       [0.33598378, 0.38957006, 0.52198106, 0.37209198, 0.8155009 ,\n",
       "        0.3494809 , 0.2497185 , 0.74425936, 0.6851511 , 0.6906331 ,\n",
       "        0.2278985 , 0.21822724, 0.25048977, 0.46281126, 0.477651  ,\n",
       "        0.5304422 , 0.57533824, 0.45561606, 0.6308393 , 0.6368083 ,\n",
       "        0.4916978 , 0.51457256, 0.6923598 , 0.42964652, 0.5166726 ,\n",
       "        0.52814204, 0.33410603, 0.2816648 ],\n",
       "       [0.38991588, 0.50438476, 0.5860142 , 0.5503245 , 0.568336  ,\n",
       "        0.5315047 , 0.6239474 , 0.6780382 , 0.36494327, 0.34631833,\n",
       "        0.5249485 , 0.569201  , 0.4441503 , 0.629661  , 0.70249504,\n",
       "        0.45524538, 0.41912562, 0.47526532, 0.39069352, 0.6396021 ,\n",
       "        0.614115  , 0.34502763, 0.77533036, 0.69943684, 0.5801262 ,\n",
       "        0.5506343 , 0.64005333, 0.62238616],\n",
       "       [0.51649785, 0.51479   , 0.75556874, 0.4839783 , 0.6308522 ,\n",
       "        0.62820333, 0.63897645, 0.5478689 , 0.6644452 , 0.4514166 ,\n",
       "        0.6354749 , 0.6503722 , 0.7945026 , 0.51540613, 0.6481225 ,\n",
       "        0.44215965, 0.4952149 , 0.4506739 , 0.23183753, 0.72819334,\n",
       "        0.46213806, 0.6664196 , 0.5438216 , 0.58521855, 0.5582043 ,\n",
       "        0.16015854, 0.6612962 , 0.6909681 ],\n",
       "       [0.6651377 , 0.28728887, 0.27326995, 0.52204657, 0.30890486,\n",
       "        0.4248739 , 0.6051903 , 0.6881964 , 0.49401844, 0.5658182 ,\n",
       "        0.53711647, 0.45533186, 0.45823053, 0.26028168, 0.36087614,\n",
       "        0.59372395, 0.69233817, 0.5478689 , 0.58430225, 0.55041575,\n",
       "        0.40090755, 0.61653906, 0.57258534, 0.6449326 , 0.6380235 ,\n",
       "        0.31450048, 0.51467156, 0.7448939 ]], dtype=float32)"
      ]
     },
     "execution_count": 25,
     "metadata": {},
     "output_type": "execute_result"
    }
   ],
   "source": [
    "faces_drawn_from_seeds[0]"
   ]
  },
  {
   "cell_type": "code",
   "execution_count": 26,
   "id": "c2f5bc68",
   "metadata": {},
   "outputs": [],
   "source": [
    "from importlib import reload\n",
    "\n",
    "from videorecorder import get_new_cv2_imshow\n",
    "from videorecorder import save_to_video, execute_at_exit\n",
    "\n",
    "reload(sys.modules['videorecorder'])\n",
    "reload(sys.modules['cv2'])\n",
    "my_imshow = get_new_cv2_imshow(cv2.imshow, video_frame_rate=1,\n",
    "                                redraw_only_every_nth_frame=1,\n",
    "                                #last_frame_meditation_time_sec=3,\n",
    "                                #fading_out_time_sec=5)\n",
    "                               )"
   ]
  },
  {
   "cell_type": "code",
   "execution_count": 27,
   "id": "83f6b1da",
   "metadata": {},
   "outputs": [
    {
     "name": "stderr",
     "output_type": "stream",
     "text": [
      "OpenCV: FFMPEG: tag 0x44495658/'XVID' is not supported with codec id 12 and format 'mp4 / MP4 (MPEG-4 Part 14)'\n",
      "OpenCV: FFMPEG: fallback to use tag 0x7634706d/'mp4v'\n"
     ]
    },
    {
     "name": "stdout",
     "output_type": "stream",
     "text": [
      "Saving video for you! See you soon!\n"
     ]
    }
   ],
   "source": [
    "\n",
    "cv2.destroyAllWindows()\n",
    "from importlib import reload\n",
    "\n",
    "reload(sys.modules['videorecorder'])\n",
    "reload(sys.modules['cv2'])\n",
    "#from videorecorder import save_to_video, execute_at_exit\n",
    "from artiom_convenience_functions import *\n",
    "\n",
    "from videorecorder import get_new_cv2_imshow\n",
    "my_imshow = get_new_cv2_imshow(cv2.imshow, video_frame_rate=1,\n",
    "                                redraw_only_every_nth_frame=1,\n",
    "                                #last_frame_meditation_time_sec=3,\n",
    "                                #fading_out_time_sec=5)\n",
    "                               )\n",
    "\n",
    "\n",
    "\n",
    "\n",
    "key = None\n",
    "while key not in (27,):\n",
    "    N = 209\n",
    "    seeds = np.random.random(size=(N, 100)).astype(\"float32\").reshape(-1, 100)\n",
    "    faces_drawn_from_seeds = face_gen.predict(seeds, verbose=0)\n",
    "\n",
    "    \n",
    "    \n",
    "    best_ind = np.argmax(policeman.predict(faces_drawn_from_seeds, verbose=0).reshape(-1))\n",
    "    my_imshow(\"result\", uint8_normalized(cv2.cvtColor(resize(faces_drawn_from_seeds[best_ind].reshape(N_DIM, N_DIM), width=500,\n",
    "                               interpolation=cv2.INTER_NEAREST), cv2.COLOR_GRAY2RGB)))\n",
    "#     save_to_video((faces_drawn_from_seeds[best_ind].reshape(N_DIM, N_DIM), width=500,\n",
    "#                                interpolation=cv2.INTER_NEAREST))\n",
    "    key = cv2.waitKey(1)\n",
    "\n",
    "    indices = np.random.randint(0, len(faces), size=N)\n",
    "    real_faces = faces[indices]\n",
    "    X = np.concatenate([faces_drawn_from_seeds, real_faces])\n",
    "    Y = np.zeros(\n",
    "    N * 2)\n",
    "\n",
    "    Y[N:] = 1\n",
    "\n",
    "\n",
    "    policeman.fit(X, Y, epochs=59, shuffle=1, verbose=0)\n",
    "    policeman.evaluate(X, Y, verbose=0)\n",
    "\n",
    "\n",
    "\n",
    "\n",
    "\n",
    "\n",
    "    N = 200\n",
    "    seeds = np.random.random(size=(N, 100)).astype(\"float32\").reshape(-1, 100)\n",
    "\n",
    "    ones = np.ones(len(seeds)).reshape(-1, 1)\n",
    "    env_model.fit(seeds, ones, shuffle=1, epochs=1, verbose=0)\n",
    "    \n",
    "execute_at_exit()"
   ]
  },
  {
   "cell_type": "code",
   "execution_count": 28,
   "id": "846f1cc3",
   "metadata": {},
   "outputs": [
    {
     "data": {
      "text/plain": [
       "array([[[0.1062253 , 0.1062253 , 0.1062253 ],\n",
       "        [0.1062253 , 0.1062253 , 0.1062253 ],\n",
       "        [0.1062253 , 0.1062253 , 0.1062253 ],\n",
       "        ...,\n",
       "        [0.51796055, 0.51796055, 0.51796055],\n",
       "        [0.51796055, 0.51796055, 0.51796055],\n",
       "        [0.51796055, 0.51796055, 0.51796055]],\n",
       "\n",
       "       [[0.1062253 , 0.1062253 , 0.1062253 ],\n",
       "        [0.1062253 , 0.1062253 , 0.1062253 ],\n",
       "        [0.1062253 , 0.1062253 , 0.1062253 ],\n",
       "        ...,\n",
       "        [0.51796055, 0.51796055, 0.51796055],\n",
       "        [0.51796055, 0.51796055, 0.51796055],\n",
       "        [0.51796055, 0.51796055, 0.51796055]],\n",
       "\n",
       "       [[0.1062253 , 0.1062253 , 0.1062253 ],\n",
       "        [0.1062253 , 0.1062253 , 0.1062253 ],\n",
       "        [0.1062253 , 0.1062253 , 0.1062253 ],\n",
       "        ...,\n",
       "        [0.51796055, 0.51796055, 0.51796055],\n",
       "        [0.51796055, 0.51796055, 0.51796055],\n",
       "        [0.51796055, 0.51796055, 0.51796055]],\n",
       "\n",
       "       ...,\n",
       "\n",
       "       [[0.5064733 , 0.5064733 , 0.5064733 ],\n",
       "        [0.5064733 , 0.5064733 , 0.5064733 ],\n",
       "        [0.5064733 , 0.5064733 , 0.5064733 ],\n",
       "        ...,\n",
       "        [0.47133568, 0.47133568, 0.47133568],\n",
       "        [0.47133568, 0.47133568, 0.47133568],\n",
       "        [0.47133568, 0.47133568, 0.47133568]],\n",
       "\n",
       "       [[0.5064733 , 0.5064733 , 0.5064733 ],\n",
       "        [0.5064733 , 0.5064733 , 0.5064733 ],\n",
       "        [0.5064733 , 0.5064733 , 0.5064733 ],\n",
       "        ...,\n",
       "        [0.47133568, 0.47133568, 0.47133568],\n",
       "        [0.47133568, 0.47133568, 0.47133568],\n",
       "        [0.47133568, 0.47133568, 0.47133568]],\n",
       "\n",
       "       [[0.5064733 , 0.5064733 , 0.5064733 ],\n",
       "        [0.5064733 , 0.5064733 , 0.5064733 ],\n",
       "        [0.5064733 , 0.5064733 , 0.5064733 ],\n",
       "        ...,\n",
       "        [0.47133568, 0.47133568, 0.47133568],\n",
       "        [0.47133568, 0.47133568, 0.47133568],\n",
       "        [0.47133568, 0.47133568, 0.47133568]]], dtype=float32)"
      ]
     },
     "execution_count": 28,
     "metadata": {},
     "output_type": "execute_result"
    }
   ],
   "source": [
    "cv2.cvtColor(resize(faces_drawn_from_seeds[best_ind].reshape(N_DIM, N_DIM), width=500,\n",
    "                               interpolation=cv2.INTER_NEAREST), cv2.COLOR_GRAY2RGB)"
   ]
  },
  {
   "cell_type": "code",
   "execution_count": null,
   "id": "f7490b75",
   "metadata": {},
   "outputs": [],
   "source": []
  },
  {
   "cell_type": "code",
   "execution_count": null,
   "id": "18f4b894",
   "metadata": {},
   "outputs": [],
   "source": []
  },
  {
   "cell_type": "code",
   "execution_count": null,
   "id": "9cf3765b",
   "metadata": {},
   "outputs": [],
   "source": []
  },
  {
   "cell_type": "code",
   "execution_count": null,
   "id": "4dc6020d",
   "metadata": {},
   "outputs": [],
   "source": []
  }
 ],
 "metadata": {
  "kernelspec": {
   "display_name": "Python 3 (ipykernel)",
   "language": "python",
   "name": "python3"
  },
  "language_info": {
   "codemirror_mode": {
    "name": "ipython",
    "version": 3
   },
   "file_extension": ".py",
   "mimetype": "text/x-python",
   "name": "python",
   "nbconvert_exporter": "python",
   "pygments_lexer": "ipython3",
   "version": "3.10.4"
  }
 },
 "nbformat": 4,
 "nbformat_minor": 5
}
