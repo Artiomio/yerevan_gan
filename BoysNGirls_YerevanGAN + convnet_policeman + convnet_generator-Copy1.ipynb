{
 "cells": [
  {
   "cell_type": "code",
   "execution_count": 1,
   "id": "78d12d36",
   "metadata": {},
   "outputs": [
    {
     "name": "stderr",
     "output_type": "stream",
     "text": [
      "2022-10-05 17:10:15.893464: E tensorflow/stream_executor/cuda/cuda_blas.cc:2981] Unable to register cuBLAS factory: Attempting to register factory for plugin cuBLAS when one has already been registered\n",
      "2022-10-05 17:10:16.508836: W tensorflow/stream_executor/platform/default/dso_loader.cc:64] Could not load dynamic library 'libnvinfer.so.7'; dlerror: libnvinfer.so.7: cannot open shared object file: No such file or directory; LD_LIBRARY_PATH: /home/art/venv/neural.env/lib/python3.10/site-packages/cv2/../../lib64::/usr/local/cuda/lib64:/usr/local/cuda/extras/CUPTI/lib64:/home/art/.local/lib:/usr/local/cuda/lib64:/usr/local/cuda/extras/CUPTI/lib64:/home/art/.local/lib\n",
      "2022-10-05 17:10:16.508927: W tensorflow/stream_executor/platform/default/dso_loader.cc:64] Could not load dynamic library 'libnvinfer_plugin.so.7'; dlerror: libnvinfer_plugin.so.7: cannot open shared object file: No such file or directory; LD_LIBRARY_PATH: /home/art/venv/neural.env/lib/python3.10/site-packages/cv2/../../lib64::/usr/local/cuda/lib64:/usr/local/cuda/extras/CUPTI/lib64:/home/art/.local/lib:/usr/local/cuda/lib64:/usr/local/cuda/extras/CUPTI/lib64:/home/art/.local/lib\n",
      "2022-10-05 17:10:16.508937: W tensorflow/compiler/tf2tensorrt/utils/py_utils.cc:38] TF-TRT Warning: Cannot dlopen some TensorRT libraries. If you would like to use Nvidia GPU with TensorRT, please make sure the missing libraries mentioned above are installed properly.\n"
     ]
    }
   ],
   "source": [
    "%matplotlib inline\n",
    "from IPython.display import clear_output\n",
    "\n",
    "import gc\n",
    "import os\n",
    "import time\n",
    "import numpy as np\n",
    "import cv2\n",
    "import matplotlib.pyplot as plt\n",
    "from tqdm.notebook import tqdm\n",
    "#from tqdm import tqdm\n",
    "\n",
    "from sklearn.model_selection import train_test_split\n",
    "\n",
    "import keras\n",
    "from keras.models import Sequential\n",
    "from keras.layers import *\n",
    "from keras.layers import Dense, Dropout, Flatten\n",
    "from keras.layers import Conv2D, MaxPooling2D\n",
    "from keras import backend as K\n",
    "\n",
    "from keras import initializers\n",
    "import sys\n",
    "sys.path.append('/home/art/Programming/artlibs')\n",
    "from artiom_convenience_functions import * \n",
    "from videorecorder import save_to_video, execute_at_exit\n",
    "\n"
   ]
  },
  {
   "cell_type": "code",
   "execution_count": 2,
   "id": "f31f5810",
   "metadata": {},
   "outputs": [],
   "source": [
    "def s(img):\n",
    "    plt.imshow(\n",
    "    img.reshape(\n",
    "    N_DIM, N_DIM), cmap='gray')"
   ]
  },
  {
   "cell_type": "code",
   "execution_count": 3,
   "id": "2a93ca54",
   "metadata": {},
   "outputs": [],
   "source": [
    "N_DIM = 64\n",
    "\n",
    "# faces = np.concatenate([np.fromfile(f\"girls_img_{N_DIM}x{N_DIM}.bin\", dtype=\"uint8\").reshape(-1, N_DIM, N_DIM) / 255,\n",
    "\n",
    "#                         np.fromfile(f\"boys_img_{N_DIM}x{N_DIM}.bin\", dtype=\"uint8\").reshape(-1, N_DIM, N_DIM) / 255])"
   ]
  },
  {
   "cell_type": "code",
   "execution_count": 4,
   "id": "ed46ea0b",
   "metadata": {},
   "outputs": [],
   "source": [
    "faces = np.fromfile(\"/home/art/datasets/celeb_faces_64x64_200k.bin\", dtype=\"uint8\").reshape(-1, N_DIM, N_DIM) / 255"
   ]
  },
  {
   "cell_type": "code",
   "execution_count": 5,
   "id": "0eae103d",
   "metadata": {},
   "outputs": [
    {
     "data": {
      "text/plain": [
       "(197122, 64, 64)"
      ]
     },
     "execution_count": 5,
     "metadata": {},
     "output_type": "execute_result"
    }
   ],
   "source": [
    "faces.shape"
   ]
  },
  {
   "cell_type": "markdown",
   "id": "d0a4ca05",
   "metadata": {},
   "source": [
    "# Face generator\n"
   ]
  },
  {
   "cell_type": "code",
   "execution_count": 6,
   "id": "3d142464",
   "metadata": {},
   "outputs": [
    {
     "name": "stdout",
     "output_type": "stream",
     "text": [
      "(None, 64, 64, 1)\n",
      "(None, 64, 64, 1)\n"
     ]
    },
    {
     "name": "stderr",
     "output_type": "stream",
     "text": [
      "2022-10-05 17:10:19.924780: I tensorflow/stream_executor/cuda/cuda_gpu_executor.cc:980] successful NUMA node read from SysFS had negative value (-1), but there must be at least one NUMA node, so returning NUMA node zero\n",
      "2022-10-05 17:10:19.967487: I tensorflow/stream_executor/cuda/cuda_gpu_executor.cc:980] successful NUMA node read from SysFS had negative value (-1), but there must be at least one NUMA node, so returning NUMA node zero\n",
      "2022-10-05 17:10:19.968102: I tensorflow/stream_executor/cuda/cuda_gpu_executor.cc:980] successful NUMA node read from SysFS had negative value (-1), but there must be at least one NUMA node, so returning NUMA node zero\n",
      "2022-10-05 17:10:19.969581: I tensorflow/stream_executor/cuda/cuda_gpu_executor.cc:980] successful NUMA node read from SysFS had negative value (-1), but there must be at least one NUMA node, so returning NUMA node zero\n",
      "2022-10-05 17:10:19.969742: I tensorflow/stream_executor/cuda/cuda_gpu_executor.cc:980] successful NUMA node read from SysFS had negative value (-1), but there must be at least one NUMA node, so returning NUMA node zero\n",
      "2022-10-05 17:10:19.969876: I tensorflow/stream_executor/cuda/cuda_gpu_executor.cc:980] successful NUMA node read from SysFS had negative value (-1), but there must be at least one NUMA node, so returning NUMA node zero\n",
      "2022-10-05 17:10:20.443204: I tensorflow/stream_executor/cuda/cuda_gpu_executor.cc:980] successful NUMA node read from SysFS had negative value (-1), but there must be at least one NUMA node, so returning NUMA node zero\n",
      "2022-10-05 17:10:20.443385: I tensorflow/stream_executor/cuda/cuda_gpu_executor.cc:980] successful NUMA node read from SysFS had negative value (-1), but there must be at least one NUMA node, so returning NUMA node zero\n",
      "2022-10-05 17:10:20.443524: I tensorflow/stream_executor/cuda/cuda_gpu_executor.cc:980] successful NUMA node read from SysFS had negative value (-1), but there must be at least one NUMA node, so returning NUMA node zero\n",
      "2022-10-05 17:10:20.443637: I tensorflow/core/common_runtime/gpu/gpu_device.cc:1616] Created device /job:localhost/replica:0/task:0/device:GPU:0 with 9808 MB memory:  -> device: 0, name: NVIDIA GeForce RTX 3060, pci bus id: 0000:01:00.0, compute capability: 8.6\n"
     ]
    }
   ],
   "source": [
    "inputs = keras.Input(shape=(100))\n",
    "x = Dense(100, activation='sigmoid', kernel_regularizer='l2', use_bias=0)(inputs)\n",
    "#x = Dropout(0.2)(x)\n",
    "#x = Dense(1000, activation='sigmoid')(x)\n",
    "\n",
    "x = Dense(4*(N_DIM + 1)** 2, activation='sigmoid', kernel_regularizer='l2', use_bias=0)(x)\n",
    "x = Reshape((2*N_DIM + 2, 2*N_DIM + 2, 1))(x)\n",
    "\n",
    "x = Conv2D(300, (3, 3),)(x)\n",
    "x = MaxPool2D((2, 2))(x)\n",
    "x = Conv2D(1, (1, 1), activation=\"sigmoid\")(x)\n",
    "print(x.shape)\n",
    "\n",
    "print(x.shape)\n",
    "x = Reshape((N_DIM, N_DIM))(x)\n",
    "face_gen = keras.Model(inputs=inputs, outputs=x, name=\"face_generator\")"
   ]
  },
  {
   "cell_type": "code",
   "execution_count": 7,
   "id": "cdf3beda",
   "metadata": {},
   "outputs": [],
   "source": [
    "face_gen.compile(\n",
    "\n",
    "    optimizer=keras.optimizers.Adam(0.0001),\n",
    "    metrics=[\"accuracy\"],\n",
    ")"
   ]
  },
  {
   "cell_type": "code",
   "execution_count": null,
   "id": "2295ade9",
   "metadata": {},
   "outputs": [],
   "source": []
  },
  {
   "cell_type": "markdown",
   "id": "7335e045",
   "metadata": {},
   "source": [
    "\n",
    "# policeman "
   ]
  },
  {
   "cell_type": "code",
   "execution_count": 8,
   "id": "eae59cb6",
   "metadata": {},
   "outputs": [],
   "source": [
    "shape=(N_DIM, N_DIM)"
   ]
  },
  {
   "cell_type": "code",
   "execution_count": 9,
   "id": "03bf0092",
   "metadata": {},
   "outputs": [],
   "source": [
    "inputs = keras.Input(shape=(N_DIM, N_DIM, 1))\n",
    "\n",
    "x = Conv2D(100, (3, 3))(inputs)\n",
    "x = MaxPool2D((2, 2))(x)\n",
    "\n",
    "x = Conv2D(108, (5, 5))(x)\n",
    "x = MaxPool2D((3, 3))(x)\n",
    "#x = Conv2D(30, (4, 4))(x)\n",
    "#x = MaxPool2D((4, 4))(x)\n",
    "\n",
    "\n",
    "x = Flatten()(x)\n",
    "x = Dense(50, activation='sigmoid', kernel_regularizer='l2', )(x)\n",
    "\n",
    "\n",
    "outputs = Dense(1, activation='sigmoid')(x)\n",
    "policeman = keras.Model(inputs=inputs, outputs=outputs, name=\"policeman\")"
   ]
  },
  {
   "cell_type": "code",
   "execution_count": 10,
   "id": "ee12acf5",
   "metadata": {},
   "outputs": [],
   "source": [
    "\n",
    "policeman.compile(\n",
    "    loss=keras.losses.BinaryCrossentropy(),\n",
    "\n",
    "    optimizer=keras.optimizers.Adam(0.0001),\n",
    "    metrics=[\"accuracy\"],\n",
    ")"
   ]
  },
  {
   "cell_type": "markdown",
   "id": "b8fae1bf",
   "metadata": {},
   "source": [
    "# Среда"
   ]
  },
  {
   "cell_type": "code",
   "execution_count": 11,
   "id": "4fbaf6d2",
   "metadata": {},
   "outputs": [],
   "source": [
    "policeman.trainable = False\n",
    "inputs = keras.Input(shape=(100))\n",
    "x = face_gen(inputs)\n",
    "outputs = policeman(x) \n",
    "env_model = keras.Model(inputs=inputs, outputs=outputs, name=\"face_generator\")"
   ]
  },
  {
   "cell_type": "code",
   "execution_count": 12,
   "id": "a5dbdd81",
   "metadata": {},
   "outputs": [],
   "source": [
    "\n",
    "env_model.compile( loss=\"binary_crossentropy\" \n",
    ")"
   ]
  },
  {
   "cell_type": "code",
   "execution_count": 13,
   "id": "3493360e",
   "metadata": {},
   "outputs": [
    {
     "name": "stdout",
     "output_type": "stream",
     "text": [
      "Model: \"face_generator\"\n",
      "_________________________________________________________________\n",
      " Layer (type)                Output Shape              Param #   \n",
      "=================================================================\n",
      " input_3 (InputLayer)        [(None, 100)]             0         \n",
      "                                                                 \n",
      " face_generator (Functional)  (None, 64, 64)           1703301   \n",
      "                                                                 \n",
      " policeman (Functional)      (None, 1)                 708609    \n",
      "                                                                 \n",
      "=================================================================\n",
      "Total params: 2,411,910\n",
      "Trainable params: 1,703,301\n",
      "Non-trainable params: 708,609\n",
      "_________________________________________________________________\n"
     ]
    }
   ],
   "source": [
    "env_model.summary()"
   ]
  },
  {
   "cell_type": "code",
   "execution_count": 14,
   "id": "45f93b80",
   "metadata": {},
   "outputs": [
    {
     "name": "stderr",
     "output_type": "stream",
     "text": [
      "2022-10-05 17:10:21.795159: I tensorflow/stream_executor/cuda/cuda_blas.cc:1614] TensorFloat-32 will be used for the matrix multiplication. This will only be logged once.\n",
      "2022-10-05 17:10:22.569816: I tensorflow/stream_executor/cuda/cuda_dnn.cc:384] Loaded cuDNN version 8204\n"
     ]
    },
    {
     "name": "stdout",
     "output_type": "stream",
     "text": [
      "1/1 [==============================] - 3s 3s/step\n"
     ]
    },
    {
     "data": {
      "image/png": "[encoded data removed]",
      "text/plain": [
       "<Figure size 640x480 with 1 Axes>"
      ]
     },
     "metadata": {},
     "output_type": "display_data"
    }
   ],
   "source": [
    "s(\n",
    "    face_gen.predict(\n",
    "        np.random.random(size=100).astype(\"float32\").reshape(1, 100)\n",
    "    ).reshape(N_DIM, N_DIM))"
   ]
  },
  {
   "cell_type": "markdown",
   "id": "0da0c8c7",
   "metadata": {},
   "source": [
    "# Учим полицейского"
   ]
  },
  {
   "cell_type": "code",
   "execution_count": null,
   "id": "341e0019",
   "metadata": {},
   "outputs": [],
   "source": []
  },
  {
   "cell_type": "code",
   "execution_count": 15,
   "id": "55146b40",
   "metadata": {},
   "outputs": [],
   "source": [
    "N = 314\n",
    "seeds = np.random.random(size=(N, 100)).astype(\"float32\").reshape(-1, 100)"
   ]
  },
  {
   "cell_type": "code",
   "execution_count": 16,
   "id": "ac0d159d",
   "metadata": {},
   "outputs": [
    {
     "name": "stdout",
     "output_type": "stream",
     "text": [
      "10/10 [==============================] - 0s 16ms/step\n"
     ]
    }
   ],
   "source": [
    "faces_drawn_from_seeds = face_gen.predict(seeds)"
   ]
  },
  {
   "cell_type": "code",
   "execution_count": 17,
   "id": "67d24089",
   "metadata": {},
   "outputs": [],
   "source": [
    "\n",
    "indices = np.random.randint(0, len(faces), size=N)\n",
    "real_faces = faces[indices]"
   ]
  },
  {
   "cell_type": "code",
   "execution_count": 18,
   "id": "c68b9c69",
   "metadata": {},
   "outputs": [
    {
     "data": {
      "text/plain": [
       "(628, 64, 64)"
      ]
     },
     "execution_count": 18,
     "metadata": {},
     "output_type": "execute_result"
    }
   ],
   "source": [
    "X = np.concatenate([faces_drawn_from_seeds, real_faces])\n",
    "X.shape"
   ]
  },
  {
   "cell_type": "code",
   "execution_count": 19,
   "id": "31f299cd",
   "metadata": {},
   "outputs": [],
   "source": [
    "Y = np.zeros(\n",
    "N * 2)\n",
    "\n",
    "Y[N:] = 1"
   ]
  },
  {
   "cell_type": "code",
   "execution_count": 20,
   "id": "16b0efb5",
   "metadata": {},
   "outputs": [
    {
     "data": {
      "text/plain": [
       "array([[0.5033775 , 0.50321341, 0.50319189, ..., 0.50383019, 0.50320971,\n",
       "        0.50316912],\n",
       "       [0.50351757, 0.50349528, 0.50297278, ..., 0.50342751, 0.50308025,\n",
       "        0.50318408],\n",
       "       [0.50315428, 0.50339437, 0.50324172, ..., 0.50328791, 0.5036093 ,\n",
       "        0.50308532],\n",
       "       ...,\n",
       "       [0.50360405, 0.50323039, 0.50360668, ..., 0.50348359, 0.50349158,\n",
       "        0.50334007],\n",
       "       [0.50344032, 0.50369054, 0.50305855, ..., 0.50378579, 0.50338101,\n",
       "        0.50326747],\n",
       "       [0.50337923, 0.50312573, 0.5033924 , ..., 0.50373846, 0.50361651,\n",
       "        0.50350797]])"
      ]
     },
     "execution_count": 20,
     "metadata": {},
     "output_type": "execute_result"
    }
   ],
   "source": [
    "X[1]"
   ]
  },
  {
   "cell_type": "code",
   "execution_count": 21,
   "id": "2fe93e1d",
   "metadata": {},
   "outputs": [
    {
     "name": "stdout",
     "output_type": "stream",
     "text": [
      "0.0\n"
     ]
    },
    {
     "data": {
      "image/png": "[encoded data removed]",
      "text/plain": [
       "<Figure size 640x480 with 1 Axes>"
      ]
     },
     "metadata": {},
     "output_type": "display_data"
    }
   ],
   "source": [
    "x, y = X[ind:=np.random.randint(0, len(X))],   Y[ind]\n",
    "print(y)\n",
    "s(x)"
   ]
  },
  {
   "cell_type": "code",
   "execution_count": 22,
   "id": "a3f40534",
   "metadata": {},
   "outputs": [
    {
     "name": "stdout",
     "output_type": "stream",
     "text": [
      "20/20 [==============================] - 1s 20ms/step - loss: 1.5864 - accuracy: 0.7006\n",
      "20/20 [==============================] - 0s 5ms/step - loss: 1.4575 - accuracy: 0.9889\n"
     ]
    },
    {
     "data": {
      "text/plain": [
       "[1.4575356245040894, 0.9888535141944885]"
      ]
     },
     "execution_count": 22,
     "metadata": {},
     "output_type": "execute_result"
    }
   ],
   "source": [
    "policeman.fit(X, Y, epochs=1, shuffle=1)\n",
    "policeman.evaluate(X, Y)"
   ]
  },
  {
   "cell_type": "markdown",
   "id": "45f79ef5",
   "metadata": {},
   "source": [
    "# Теперь запускаем срелу"
   ]
  },
  {
   "cell_type": "code",
   "execution_count": 23,
   "id": "03b6360a",
   "metadata": {},
   "outputs": [],
   "source": [
    "N = 314\n",
    "seeds = np.random.random(size=(N, 100)).astype(\"float32\").reshape(-1, 100)\n",
    "\n",
    "ones = np.ones(len(seeds), dtype=\"float32\").reshape(-1, 1)\n"
   ]
  },
  {
   "cell_type": "code",
   "execution_count": 24,
   "id": "64d7a8a4",
   "metadata": {},
   "outputs": [
    {
     "data": {
      "text/plain": [
       "(314, 1)"
      ]
     },
     "execution_count": 24,
     "metadata": {},
     "output_type": "execute_result"
    }
   ],
   "source": [
    "ones.shape"
   ]
  },
  {
   "cell_type": "code",
   "execution_count": 25,
   "id": "3e04119c",
   "metadata": {},
   "outputs": [
    {
     "data": {
      "text/plain": [
       "array([0.3005854 , 0.8220936 , 0.3570678 , 0.8345889 , 0.92042327,\n",
       "       0.606228  , 0.3883233 , 0.45871773, 0.65832317, 0.08467247,\n",
       "       0.03862334, 0.9250967 , 0.57736903, 0.18729094, 0.8222554 ,\n",
       "       0.30091372, 0.13218974, 0.8443813 , 0.32490578, 0.2692907 ,\n",
       "       0.95771444, 0.6433937 , 0.29105252, 0.11172686, 0.24861462,\n",
       "       0.48411262, 0.0480495 , 0.9683301 , 0.8738027 , 0.14353652,\n",
       "       0.60077673, 0.2171317 , 0.29233572, 0.35743043, 0.30326214,\n",
       "       0.01973488, 0.8806322 , 0.60079587, 0.10416752, 0.7285683 ,\n",
       "       0.6095759 , 0.8788154 , 0.6048366 , 0.13098317, 0.0426972 ,\n",
       "       0.7223777 , 0.53410363, 0.560719  , 0.20048451, 0.6624716 ,\n",
       "       0.6763889 , 0.41606688, 0.20859393, 0.24210854, 0.5476966 ,\n",
       "       0.00703315, 0.5923755 , 0.88861465, 0.6904062 , 0.33631077,\n",
       "       0.40601817, 0.38712373, 0.7152402 , 0.9026043 , 0.60206276,\n",
       "       0.92927957, 0.5898169 , 0.03160596, 0.78150463, 0.8507666 ,\n",
       "       0.6610222 , 0.5911437 , 0.23277687, 0.42098182, 0.5910218 ,\n",
       "       0.26274216, 0.18224113, 0.97213656, 0.00756858, 0.5909701 ,\n",
       "       0.3580513 , 0.67218566, 0.83428067, 0.0823864 , 0.3737287 ,\n",
       "       0.8767442 , 0.49960473, 0.21819444, 0.57718366, 0.00879699,\n",
       "       0.05452808, 0.6750659 , 0.9657435 , 0.1502075 , 0.14173274,\n",
       "       0.9780777 , 0.1975091 , 0.3296408 , 0.9895077 , 0.9070536 ],\n",
       "      dtype=float32)"
      ]
     },
     "execution_count": 25,
     "metadata": {},
     "output_type": "execute_result"
    }
   ],
   "source": [
    "\n",
    "seeds[0]"
   ]
  },
  {
   "cell_type": "code",
   "execution_count": 26,
   "id": "cf7875c0",
   "metadata": {},
   "outputs": [
    {
     "name": "stdout",
     "output_type": "stream",
     "text": [
      "10/10 [==============================] - 3s 171ms/step - loss: 2.8481\n"
     ]
    },
    {
     "data": {
      "text/plain": [
       "<keras.callbacks.History at 0x7fea1025af20>"
      ]
     },
     "execution_count": 26,
     "metadata": {},
     "output_type": "execute_result"
    }
   ],
   "source": [
    "env_model.fit(seeds, ones, shuffle=1, epochs=1)"
   ]
  },
  {
   "cell_type": "markdown",
   "id": "98cfbf19",
   "metadata": {},
   "source": [
    "# В цикле"
   ]
  },
  {
   "cell_type": "code",
   "execution_count": 27,
   "id": "392dcdae",
   "metadata": {},
   "outputs": [],
   "source": [
    "env_model.learning_rate = 1299"
   ]
  },
  {
   "cell_type": "code",
   "execution_count": 28,
   "id": "d02e3de6",
   "metadata": {},
   "outputs": [
    {
     "data": {
      "text/plain": [
       "array([[0.50334793, 0.50325006, 0.5031371 , ..., 0.503816  , 0.5032374 ,\n",
       "        0.50324965],\n",
       "       [0.5034881 , 0.5034922 , 0.5029656 , ..., 0.50339556, 0.5030167 ,\n",
       "        0.5032242 ],\n",
       "       [0.5030876 , 0.5033593 , 0.50319135, ..., 0.50333464, 0.50369877,\n",
       "        0.5030469 ],\n",
       "       ...,\n",
       "       [0.50355214, 0.50322187, 0.5036451 , ..., 0.5034205 , 0.5034773 ,\n",
       "        0.50329685],\n",
       "       [0.50341386, 0.50369215, 0.50304234, ..., 0.5038243 , 0.50338936,\n",
       "        0.50326   ],\n",
       "       [0.5033784 , 0.5030446 , 0.5033877 , ..., 0.5037194 , 0.50369304,\n",
       "        0.5034453 ]], dtype=float32)"
      ]
     },
     "execution_count": 28,
     "metadata": {},
     "output_type": "execute_result"
    }
   ],
   "source": [
    "faces_drawn_from_seeds[0]"
   ]
  },
  {
   "cell_type": "code",
   "execution_count": 29,
   "id": "c2f5bc68",
   "metadata": {},
   "outputs": [],
   "source": [
    "from importlib import reload\n",
    "\n",
    "from videorecorder import get_new_cv2_imshow\n",
    "from videorecorder import save_to_video, execute_at_exit\n",
    "\n",
    "reload(sys.modules['videorecorder'])\n",
    "reload(sys.modules['cv2'])\n",
    "my_imshow = get_new_cv2_imshow(cv2.imshow, video_frame_rate=1,\n",
    "                                redraw_only_every_nth_frame=1,\n",
    "                                #last_frame_meditation_time_sec=3,\n",
    "                                #fading_out_time_sec=5)\n",
    "                               )"
   ]
  },
  {
   "cell_type": "code",
   "execution_count": 30,
   "id": "b34a237c",
   "metadata": {},
   "outputs": [
    {
     "data": {
      "text/plain": [
       "2"
      ]
     },
     "execution_count": 30,
     "metadata": {},
     "output_type": "execute_result"
    }
   ],
   "source": [
    "2"
   ]
  },
  {
   "cell_type": "code",
   "execution_count": null,
   "id": "83f6b1da",
   "metadata": {},
   "outputs": [
    {
     "name": "stderr",
     "output_type": "stream",
     "text": [
      "OpenCV: FFMPEG: tag 0x44495658/'XVID' is not supported with codec id 12 and format 'mp4 / MP4 (MPEG-4 Part 14)'\n",
      "OpenCV: FFMPEG: fallback to use tag 0x7634706d/'mp4v'\n"
     ]
    },
    {
     "name": "stdout",
     "output_type": "stream",
     "text": [
      "0.9424999952316284 1 10\n",
      "0.8849999904632568 1 1.5\n",
      "0.9599999785423279 1 1.5\n",
      "0.8475000262260437 1 1.5\n",
      "1.0 1 1.5\n",
      "1.0 1 1.5\n",
      "0.9775000214576721 1 1.5\n",
      "1.0 1 1.5\n",
      "0.9925000071525574 1 1.5\n",
      "0.9725000262260437 1 1.5\n",
      "0.48249998688697815 1 1.5\n",
      "0.9049999713897705 2.25 1.5\n",
      "0.9599999785423279 2.25 3.375\n",
      "0.7225000262260437 2.25 3.375\n",
      "0.4675000011920929 2.25 3.375\n",
      "0.9975000023841858 5.0625 3.375\n",
      "0.9325000047683716 5.0625 7.59375\n",
      "1.0 5.0625 7.59375\n",
      "0.9150000214576721 5.0625 7.59375\n",
      "1.0 5.0625 7.59375\n",
      "0.5 5.0625 7.59375\n",
      "0.9925000071525574 11.390625 7.59375\n",
      "0.5 5.6953125 8.54296875\n",
      "0.5 12.814453125 8.54296875\n",
      "0.9925000071525574 12.814453125 8.54296875\n",
      "0.4975000023841858 6.4072265625 9.61083984375\n",
      "1.0 14.416259765625 9.61083984375\n",
      "0.5 7.2081298828125 10.81219482421875\n",
      "0.9750000238418579 8.109146118164062 5.406097412109375\n",
      "0.5 8.109146118164062 12.163719177246094\n",
      "0.5 9.12278938293457 6.081859588623047\n",
      "0.6899999976158142 9.12278938293457 6.081859588623047\n",
      "1.0 9.12278938293457 6.081859588623047\n",
      "0.5 9.12278938293457 13.684184074401855\n",
      "0.5 10.263138055801392 6.842092037200928\n",
      "1.0 10.263138055801392 6.842092037200928\n",
      "0.5 5.131569027900696 7.697353541851044\n",
      "1.0 11.546030312776566 7.697353541851044\n",
      "0.5 5.773015156388283 8.659522734582424\n",
      "0.5 12.989284101873636 8.659522734582424\n",
      "1.0 12.989284101873636 8.659522734582424\n",
      "0.4975000023841858 6.494642050936818 9.741963076405227\n",
      "1.0 14.61294461460784 9.741963076405227\n",
      "0.5 7.30647230730392 10.95970846095588\n",
      "0.5 8.21978134571691 5.47985423047794\n",
      "0.9925000071525574 8.21978134571691 5.47985423047794\n",
      "0.5 8.21978134571691 12.329672018575366\n",
      "0.5 9.247254013931524 6.164836009287683\n",
      "0.5 9.247254013931524 6.164836009287683\n",
      "1.0 9.247254013931524 6.164836009287683\n",
      "0.5 9.247254013931524 13.870881020897286\n",
      "0.5 10.403160765672965 6.935440510448643\n",
      "0.5 10.403160765672965 6.935440510448643\n",
      "1.0 10.403160765672965 6.935440510448643\n",
      "0.5 5.201580382836482 7.802370574254724\n",
      "0.9649999737739563 11.703555861382085 7.802370574254724\n",
      "0.9975000023841858 5.851777930691043 8.777666896036564\n",
      "0.5 5.851777930691043 8.777666896036564\n",
      "1.0 13.166500344054846 8.777666896036564\n",
      "0.5 6.583250172027423 9.874875258041135\n",
      "0.5 14.812312887061701 9.874875258041135\n",
      "0.9900000095367432 14.812312887061701 9.874875258041135\n",
      "0.5 7.4061564435308505 11.109234665296276\n",
      "0.9975000023841858 8.331925998972206 5.554617332648138\n",
      "0.5 8.331925998972206 12.49788899845831\n",
      "0.5 9.373416748843733 6.248944499229155\n",
      "0.5 9.373416748843733 6.248944499229155\n",
      "0.9975000023841858 9.373416748843733 6.248944499229155\n",
      "1.0 9.373416748843733 14.0601251232656\n",
      "0.5 9.373416748843733 14.0601251232656\n",
      "0.5 10.5450938424492 7.0300625616328\n",
      "0.5 10.5450938424492 7.0300625616328\n",
      "0.5 10.5450938424492 7.0300625616328\n",
      "0.5 10.5450938424492 7.0300625616328\n",
      "1.0 10.5450938424492 7.0300625616328\n",
      "0.4975000023841858 5.2725469212246 7.9088203818369\n",
      "0.9900000095367432 11.86323057275535 7.9088203818369\n",
      "0.9975000023841858 5.931615286377675 8.897422929566513\n",
      "0.9750000238418579 5.931615286377675 8.897422929566513\n",
      "0.5 5.931615286377675 8.897422929566513\n",
      "0.9900000095367432 13.34613439434977 8.897422929566513\n",
      "0.5 6.673067197174885 10.009600795762328\n",
      "0.9599999785423279 7.507200596821746 5.004800397881164\n",
      "1.0 7.507200596821746 11.260800895232618\n",
      "0.9775000214576721 7.507200596821746 11.260800895232618\n",
      "0.5 7.507200596821746 11.260800895232618\n",
      "0.5 8.445600671424463 5.630400447616309\n",
      "0.9975000023841858 8.445600671424463 5.630400447616309\n",
      "0.9049999713897705 8.445600671424463 12.668401007136694\n",
      "0.5 8.445600671424463 12.668401007136694\n",
      "0.9950000047683716 9.50130075535252 6.334200503568347\n",
      "0.5 9.50130075535252 14.251951133028781\n",
      "1.0 10.688963349771585 7.1259755665143905\n",
      "0.5 5.344481674885793 8.01672251232869\n",
      "0.5 12.025083768493033 8.01672251232869\n",
      "0.9950000047683716 12.025083768493033 8.01672251232869\n",
      "0.9800000190734863 6.012541884246517 9.018812826369775\n",
      "0.5 6.012541884246517 9.018812826369775\n",
      "1.0 13.528219239554662 9.018812826369775\n",
      "0.4975000023841858 6.764109619777331 10.146164429665998\n",
      "0.5 7.609623322249498 5.073082214832999\n",
      "0.5 7.609623322249498 5.073082214832999\n",
      "1.0 7.609623322249498 5.073082214832999\n",
      "0.5 7.609623322249498 11.414434983374248\n",
      "1.0 8.560826237530685 5.707217491687124\n",
      "0.5 8.560826237530685 12.841239356296029\n",
      "0.5 9.630929517222022 6.4206196781480145\n",
      "0.5 9.630929517222022 6.4206196781480145\n",
      "1.0 9.630929517222022 6.4206196781480145\n",
      "0.5 9.630929517222022 14.446394275833033\n",
      "0.4975000023841858 10.834795706874775 7.223197137916516\n",
      "0.9975000023841858 10.834795706874775 7.223197137916516\n",
      "1.0 5.417397853437388 8.126096780156082\n",
      "1.0 5.417397853437388 8.126096780156082\n",
      "0.5 5.417397853437388 8.126096780156082\n",
      "0.9975000023841858 12.189145170234124 8.126096780156082\n",
      "0.5 6.094572585117062 9.141858877675592\n",
      "0.5 13.712788316513388 9.141858877675592\n",
      "1.0 13.712788316513388 9.141858877675592\n",
      "1.0 6.856394158256694 10.28459123738504\n",
      "0.9975000023841858 6.856394158256694 10.28459123738504\n",
      "0.5 6.856394158256694 10.28459123738504\n",
      "0.5 7.71344342803878 5.14229561869252\n",
      "0.5 7.71344342803878 5.14229561869252\n",
      "1.0 7.71344342803878 5.14229561869252\n",
      "0.5 7.71344342803878 11.57016514205817\n",
      "0.5 8.677623856543628 5.785082571029085\n",
      "0.8500000238418579 8.677623856543628 5.785082571029085\n",
      "0.9950000047683716 8.677623856543628 5.785082571029085\n",
      "0.4975000023841858 8.677623856543628 13.016435784815442\n",
      "0.5 9.762326838611582 6.508217892407721\n",
      "1.0 9.762326838611582 6.508217892407721\n",
      "0.5 9.762326838611582 14.643490257917373\n",
      "1.0 10.98261769343803 7.321745128958686\n",
      "0.5 5.491308846719015 8.236963270078522\n",
      "0.887499988079071 12.355444905117784 8.236963270078522\n",
      "0.5 12.355444905117784 8.236963270078522\n",
      "1.0 12.355444905117784 8.236963270078522\n",
      "0.5 6.177722452558892 9.266583678838337\n",
      "0.9950000047683716 13.899875518257506 9.266583678838337\n",
      "0.5 6.949937759128753 10.42490663869313\n",
      "0.987500011920929 7.818679979019848 5.212453319346565\n",
      "0.5 7.818679979019848 11.728019968529772\n",
      "0.5 8.796014976397329 5.864009984264886\n",
      "0.5 8.796014976397329 5.864009984264886\n",
      "0.5 8.796014976397329 5.864009984264886\n",
      "0.9975000023841858 8.796014976397329 5.864009984264886\n"
     ]
    }
   ],
   "source": [
    "\n",
    "cv2.destroyAllWindows()\n",
    "from importlib import reload\n",
    "\n",
    "reload(sys.modules['videorecorder'])\n",
    "reload(sys.modules['cv2'])\n",
    "#from videorecorder import save_to_video, execute_at_exit\n",
    "from artiom_convenience_functions import *\n",
    "\n",
    "from videorecorder import get_new_cv2_imshow\n",
    "my_imshow = get_new_cv2_imshow(cv2.imshow, video_frame_rate=1,\n",
    "                                redraw_only_every_nth_frame=1,\n",
    "                                #last_frame_meditation_time_sec=3,\n",
    "                                #fading_out_time_sec=5)\n",
    "                               )\n",
    "\n",
    "\n",
    "\n",
    "\n",
    "key = None\n",
    "policeman_epochs = 1\n",
    "env_epochs = 10\n",
    "\n",
    "\n",
    "vis_seeds = np.random.random(size=(3, 100)).astype(\"float32\").reshape(-1, 100)\n",
    "\n",
    "\n",
    "while key not in (27,):\n",
    "    N = 200\n",
    "    seeds = np.random.random(size=(N, 100)).astype(\"float32\").reshape(-1, 100)\n",
    "    faces_drawn_from_seeds = face_gen.predict(seeds, verbose=0)\n",
    "\n",
    "    \n",
    "    \n",
    "    # Вывод N лиц\n",
    "    vis_seeds = np.random.random(size=(3, 100)).astype(\"float32\").reshape(-1, 100)\n",
    "    vis_faces = face_gen.predict(vis_seeds, verbose=0)\n",
    "    vis_faces = vis_faces.transpose((1, 0, 2)).reshape(N_DIM, -1)\n",
    "    illustration_img = uint8_normalized(cv2.cvtColor(\n",
    "        \n",
    "        fit_img_center(vis_faces, width=1500, height=800,\n",
    "                               interpolation=cv2.INTER_NEAREST), cv2.COLOR_GRAY2RGB))\n",
    "    my_imshow(\"result\", illustration_img)\n",
    "    #send_to_artmonitor(illustration_img, secret=\"artgan\")\n",
    "#     save_to_video((faces_drawn_from_seeds[best_ind].reshape(N_DIM, N_DIM), width=500,\n",
    "#                                interpolation=cv2.INTER_NEAREST))\n",
    "    key = cv2.waitKey(1)\n",
    "\n",
    "    indices = np.random.randint(0, len(faces), size=N)\n",
    "    real_faces = faces[indices]\n",
    "    X = np.concatenate([faces_drawn_from_seeds, real_faces])\n",
    "    Y = np.zeros(\n",
    "    N * 2)\n",
    "\n",
    "    Y[N:] = 1\n",
    "\n",
    "    \n",
    "    \n",
    "\n",
    "    policeman.fit(X, Y, epochs=int(policeman_epochs), shuffle=1, verbose=0)\n",
    "    caught = policeman.evaluate(X, Y, verbose=0)[1]\n",
    "    print(caught, policeman_epochs, env_epochs)\n",
    "\n",
    "\n",
    "\n",
    "\n",
    "\n",
    "\n",
    "    N = 200\n",
    "    seeds = np.random.random(size=(N, 100)).astype(\"float32\").reshape(-1, 100)\n",
    "\n",
    "    ones = np.ones(len(seeds)).reshape(-1, 1)\n",
    "    \n",
    "    if caught > 0.9:\n",
    "          env_epochs = policeman_epochs * 1.5\n",
    "    elif caught < 0.6:\n",
    "        \n",
    "        policeman_epochs = env_epochs * 1.5\n",
    "        \n",
    "        \n",
    "    if env_epochs > 10 and policeman_epochs > 10:\n",
    "        env_epochs /= 2\n",
    "        policeman_epochs /= 2\n",
    "    env_model.fit(seeds, ones, shuffle=1, epochs=int(env_epochs), verbose=0)\n",
    "    \n",
    "\n",
    "cv2.destroyAllWindows()\n",
    "execute_at_exit()"
   ]
  },
  {
   "cell_type": "code",
   "execution_count": null,
   "id": "8914cd70",
   "metadata": {},
   "outputs": [],
   "source": [
    "vis_seeds = np.random.random(size=(3, 100)).astype(\"float32\").reshape(-1, 100)\n",
    "vis_faces = face_gen.predict(vis_seeds, verbose=0)"
   ]
  },
  {
   "cell_type": "code",
   "execution_count": null,
   "id": "306cdd4c",
   "metadata": {},
   "outputs": [],
   "source": [
    "plt.imshow(vis_faces.transpose((1, 0, 2)).reshape(N_DIM, -1))"
   ]
  },
  {
   "cell_type": "code",
   "execution_count": null,
   "id": "7139b5ce",
   "metadata": {},
   "outputs": [],
   "source": []
  },
  {
   "cell_type": "code",
   "execution_count": null,
   "id": "ec37e6d8",
   "metadata": {},
   "outputs": [],
   "source": []
  },
  {
   "cell_type": "code",
   "execution_count": null,
   "id": "84a2a8ae",
   "metadata": {},
   "outputs": [],
   "source": []
  },
  {
   "cell_type": "code",
   "execution_count": null,
   "id": "9bc87f24",
   "metadata": {},
   "outputs": [],
   "source": [
    "execute_at_exit()"
   ]
  },
  {
   "cell_type": "markdown",
   "id": "d614511b",
   "metadata": {},
   "source": [
    "### Сохранение моделей"
   ]
  },
  {
   "cell_type": "code",
   "execution_count": null,
   "id": "08c8cea0",
   "metadata": {},
   "outputs": [],
   "source": [
    "face_gen.save(f\"Первый прилично работающий генератор для GANа лиц {date_time_filename()}.h5\")"
   ]
  },
  {
   "cell_type": "code",
   "execution_count": null,
   "id": "8dadfc94",
   "metadata": {},
   "outputs": [],
   "source": [
    "env_model.save(f\"Первый прилично работающий GAN лиц {date_time_filename()}.h5\")"
   ]
  },
  {
   "cell_type": "markdown",
   "id": "0ffb29ec",
   "metadata": {},
   "source": [
    "### Восстановление состояния из сохраненной модели"
   ]
  },
  {
   "cell_type": "code",
   "execution_count": null,
   "id": "ea88da19",
   "metadata": {},
   "outputs": [],
   "source": [
    "\n",
    "face_gen.load_weights(\"./Первый прилично работающий генератор для GANа лиц Thu_Sep_29_04-23-30_2022.txt.h5\")"
   ]
  },
  {
   "cell_type": "code",
   "execution_count": null,
   "id": "045c7d20",
   "metadata": {},
   "outputs": [],
   "source": [
    "env_model.load_weights(\"./Первый прилично работающий GAN лиц Wed_Sep_28_16-04-26_2022.txt.h5\")"
   ]
  },
  {
   "cell_type": "code",
   "execution_count": null,
   "id": "9df5428d",
   "metadata": {},
   "outputs": [],
   "source": []
  },
  {
   "cell_type": "code",
   "execution_count": null,
   "id": "6b7d77e0",
   "metadata": {},
   "outputs": [],
   "source": []
  },
  {
   "cell_type": "code",
   "execution_count": null,
   "id": "b6466fa0",
   "metadata": {},
   "outputs": [],
   "source": []
  },
  {
   "cell_type": "code",
   "execution_count": null,
   "id": "7f2920bc",
   "metadata": {},
   "outputs": [],
   "source": []
  },
  {
   "cell_type": "code",
   "execution_count": null,
   "id": "ccc403b3",
   "metadata": {},
   "outputs": [],
   "source": []
  },
  {
   "cell_type": "code",
   "execution_count": null,
   "id": "4a4f91a9",
   "metadata": {},
   "outputs": [],
   "source": []
  },
  {
   "cell_type": "code",
   "execution_count": null,
   "id": "92e71ef7",
   "metadata": {},
   "outputs": [],
   "source": []
  }
 ],
 "metadata": {
  "kernelspec": {
   "display_name": "Python 3 (ipykernel)",
   "language": "python",
   "name": "python3"
  },
  "language_info": {
   "codemirror_mode": {
    "name": "ipython",
    "version": 3
   },
   "file_extension": ".py",
   "mimetype": "text/x-python",
   "name": "python",
   "nbconvert_exporter": "python",
   "pygments_lexer": "ipython3",
   "version": "3.10.4"
  }
 },
 "nbformat": 4,
 "nbformat_minor": 5
}
